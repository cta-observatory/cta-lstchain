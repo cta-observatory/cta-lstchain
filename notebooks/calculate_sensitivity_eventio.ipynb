{
 "cells": [
  {
   "cell_type": "markdown",
   "metadata": {},
   "source": [
    "# Notebook to perform a sensitivity calculation\n",
    "\n",
    "**Content:**\n",
    "- Calculation of the collection area\n",
    "- Weighting of spectra\n",
    "- Sensitivity calculation in energy bins\n",
    "- Sensitivity calculation in bins of gammaness and theta2 cuts\n",
    "- Optimization of the cuts using Nex/sqrt(Nbg) -> LiMa to be implemented\n",
    "- Plotting of the sensitivity in absolute values"
   ]
  },
  {
   "cell_type": "code",
   "execution_count": 2,
   "metadata": {},
   "outputs": [],
   "source": [
    "import numpy as np\n",
    "import matplotlib.pyplot as plt\n",
    "from matplotlib.colors import LogNorm\n",
    "import h5py\n",
    "import pandas as pd\n",
    "import math\n",
    "import pyhessio\n",
    "from astropy import units as u\n",
    "import eventio\n",
    "from lstchain.io import read_simu_info_merged_hdf5\n"
   ]
  },
  {
   "cell_type": "markdown",
   "metadata": {},
   "source": [
    "### Add the local path to the gammas' and protons' simtel file"
   ]
  },
  {
   "cell_type": "code",
   "execution_count": 8,
   "metadata": {},
   "outputs": [],
   "source": [
    "# OUTDATED!!\n",
    "# This is currently done using DL1 files in the lstchain_sensitivity script\n",
    "# and all this information could actually be extracted from DL2 files\n",
    "simtelfile_gammas = \"/Users/garciaenrique/CTA/data/LST_mono_Simtel/gamma-diffuse_20deg_180deg_run9___cta-prod3-demo-2147m-LaPalma-baseline-mono.simtel.gz\"\n",
    "simtelfile_protons = \"/Users/garciaenrique/CTA/data/LST_mono_Simtel/proton_20deg_180deg_run1___cta-prod3-demo-2147m-LaPalma-baseline-mono.simtel.gz\""
   ]
  },
  {
   "cell_type": "code",
   "execution_count": 11,
   "metadata": {},
   "outputs": [],
   "source": [
    "# Assuming that you are running the notebooks from the `~/cta-lstchain/notebooks` directory :\n",
    "PATH_EVENTS = \"../../cta-lstchain-extra/reco/sample_data/dl2/\"\n",
    "file_g = PATH_EVENTS+\"/reco_gammas.h5\" ##Same events but with reconstructed \n",
    "file_p = PATH_EVENTS+\"/reco_protons.h5\"\n",
    "events_g = pd.read_hdf(file_g)\n",
    "events_p = pd.read_hdf(file_p)\n",
    "Triggered_Events_real_gammas = events_g.shape[0]\n",
    "Triggered_Events_real_protons = events_p.shape[0]"
   ]
  },
  {
   "cell_type": "code",
   "execution_count": null,
   "metadata": {},
   "outputs": [],
   "source": [
    "source_gammas = SimTelFile(simtelfile_gammas)\n",
    "source_protons = SimTelFile(simtelfile_protons)"
   ]
  },
  {
   "cell_type": "code",
   "execution_count": 5,
   "metadata": {},
   "outputs": [],
   "source": [
    "# Get some parameters from the simulations\n",
    "emin_g, emax_g = source_gammas.mc_run_headers[0]['E_range']*1e3 #GeV\n",
    "spectral_index_g = source_gammas.mc_run_headers[0]['spectral_index']\n",
    "num_showers = source_gammas.mc_run_headers[0]['n_showers']\n",
    "num_use = source_gammas.mc_run_headers[0]['n_use']\n",
    "Simulated_Events_g = num_showers * num_use\n",
    "Max_impact_g = source_gammas.mc_run_headers[0]['core_range'][1]*1e2 #cm\n",
    "Area_sim_g = math.pi * math.pow(Max_impact_g,2)\n",
    "cone_g = source_gammas.mc_run_headers[0]['viewcone'][1]\n",
    "\n",
    "emin_p, emax_p = source_protons.mc_run_headers[0]['E_range']*1e3 #GeV\n",
    "spectral_index_p = source_protons.mc_run_headers[0]['spectral_index']\n",
    "num_showers = source_protons.mc_run_headers[0]['n_showers']\n",
    "num_use = source_protons.mc_run_headers[0]['n_use']\n",
    "Simulated_Events_p = num_showers * num_use\n",
    "Max_impact_p = source_protons.mc_run_headers[0]['core_range'][1]*1e2 #cm\n",
    "Area_sim_p = math.pi * math.pow(Max_impact_p,2)\n",
    "cone_p = source_protons.mc_run_headers[0]['viewcone'][1]"
   ]
  },
  {
   "cell_type": "code",
   "execution_count": 6,
   "metadata": {},
   "outputs": [],
   "source": [
    "energies_g = []\n",
    "energies_p = []\n",
    "with SimTelFile(simtelfile_gammas) as f:\n",
    "    for i, event in enumerate(f.iter_mc_events()):\n",
    "        energies_g.append(event['mc_shower']['energy']*1e3) #In GeV\n",
    "with SimTelFile(simtelfile_protons) as f:\n",
    "    for i, event in enumerate(f.iter_mc_events()):\n",
    "        energies_p.append(event['mc_shower']['energy']*1e3)"
   ]
  },
  {
   "cell_type": "code",
   "execution_count": 7,
   "metadata": {},
   "outputs": [],
   "source": [
    "e_trig_g = 10**events_g.mc_energy\n",
    "e_trig_p = 10**events_p.mc_energy\n",
    "Triggered_Events_g = e_trig_g.shape[0] \n",
    "Triggered_Events_p = e_trig_p.shape[0]"
   ]
  },
  {
   "cell_type": "code",
   "execution_count": 8,
   "metadata": {},
   "outputs": [
    {
     "data": {
      "image/png": "[encoded data removed]",
      "text/plain": [
       "<Figure size 432x288 with 1 Axes>"
      ]
     },
     "metadata": {
      "needs_background": "light"
     },
     "output_type": "display_data"
    }
   ],
   "source": [
    "fig,ax = plt.subplots()\n",
    "ax.hist(np.log10(energies_p),label = 'Simulated protons')\n",
    "ax.hist(np.log10(energies_g),label='Simulated gammas')\n",
    "ax.set_yscale(\"log\")"
   ]
  },
  {
   "cell_type": "code",
   "execution_count": 9,
   "metadata": {},
   "outputs": [],
   "source": [
    "##### Binnings and constants######\n",
    "# Whenever implemented using simulated files, most of these values can be read from the simulations\n",
    "eedges = 6\n",
    "ebins = eedges-1\n",
    "E = np.logspace(math.log10(emin_g),math.log10(emax_g),eedges)\n",
    "E_trig = np.logspace(math.log10(emin_p),math.log10(100000),eedges)\n",
    "Emed = np.sqrt(E[:-1] * E[1:])\n",
    "Emed_trig = np.sqrt(E_trig[:-1] * E_trig[1:])\n",
    "gammaness_bins = 3\n",
    "theta2_bins = 3\n",
    "\n",
    "Index_Crab = -2.62"
   ]
  },
  {
   "cell_type": "code",
   "execution_count": 10,
   "metadata": {},
   "outputs": [],
   "source": [
    "##### Collection area calculation ######\n",
    "def collection_area(Esim, Etrig):\n",
    "    # Esim are all the simulated energies\n",
    "    # Etrig are the energies after cuts\n",
    "    area = []\n",
    "    Nsim = np.power(Esim,Index_Crab-spectral_index_g)\n",
    "    Ncuts = np.power(Etrig,Index_Crab-spectral_index_g)\n",
    "    \n",
    "    for i in range(0,ebins):\n",
    "        Nsim_w = np.sum(Nsim[(Esim < E[i+1]) & (Esim > E[i])])\n",
    "        Ntrig_w = np.sum(Ncuts[(Etrig < E[i+1]) & (Etrig > E[i])])\n",
    "        if(Nsim_w == 0):\n",
    "            print(\"You have not simulated any events in the energy range between %.3f GeV and %.3f GeV\" % (E[i],E[i+1]))\n",
    "            area.append(0)\n",
    "        else:\n",
    "            area.append(Ntrig_w / Nsim_w * Area_sim_g) # cm^2\n",
    "\n",
    "    return area\n"
   ]
  },
  {
   "cell_type": "code",
   "execution_count": 11,
   "metadata": {
    "scrolled": true
   },
   "outputs": [
    {
     "data": {
      "text/plain": [
       "[<matplotlib.lines.Line2D at 0x1122477f0>]"
      ]
     },
     "execution_count": 11,
     "metadata": {},
     "output_type": "execute_result"
    },
    {
     "data": {
      "image/png": "[encoded data removed]",
      "text/plain": [
       "<Figure size 432x288 with 1 Axes>"
      ]
     },
     "metadata": {
      "needs_background": "light"
     },
     "output_type": "display_data"
    }
   ],
   "source": [
    "# Plot the collection area\n",
    "area = collection_area(energies_g, e_trig_g)\n",
    "fig, ax = plt.subplots()\n",
    "ax.set_xlabel(\"Energy [GeV]\")\n",
    "ax.set_ylabel(\"Collection area [cm$^2$]\")\n",
    "ax.grid(ls='--',alpha=0.4)\n",
    "ax.loglog(E[:-1], area)"
   ]
  },
  {
   "cell_type": "code",
   "execution_count": 12,
   "metadata": {},
   "outputs": [],
   "source": [
    "gammaness_g = events_g.gammaness\n",
    "gammaness_p = events_p.gammaness\n",
    "\n",
    "theta2_g = (events_g.src_x-events_g.src_x_rec)**2+(events_g.src_y-events_g.src_y)**2\n",
    "theta2_p = (events_p.src_x-events_p.src_x_rec)**2+(events_p.src_y-events_p.src_y)**2"
   ]
  },
  {
   "cell_type": "code",
   "execution_count": 13,
   "metadata": {},
   "outputs": [],
   "source": [
    "####### Sensitivity calculation ##########\n",
    "# We will first go for a implementation using Sig = Nex/sqrt(Nbg)\n",
    "obstime = 50 * 3600 # s (50 hours)"
   ]
  },
  {
   "cell_type": "code",
   "execution_count": 14,
   "metadata": {},
   "outputs": [
    {
     "name": "stdout",
     "output_type": "stream",
     "text": [
      "The total rate of simulated proton events is 596289736.7 Hz\n"
     ]
    }
   ],
   "source": [
    "####### Weighting of the hadrons #####\n",
    "\n",
    "# No simulation, just take the gamma energy distribution and convert it to hadrons\n",
    "\n",
    "#Float_t ProtonTrueSpectralIndex = -2.70;\n",
    "#Float_t ProtonTrueNorm = 9.6e-9;  // (cm2 sr s GeV)^-1 at ProtonEnorm                                                                                                              \n",
    "#Float_t ProtonEnorm    = 1000.; // GeV     \n",
    "\n",
    "K = Simulated_Events_p*(1+spectral_index_p)/(emax_p**(1+spectral_index_p)-emin_p**(1+spectral_index_p))\n",
    "cone = cone_p * math.pi/180\n",
    "if(cone == 0):\n",
    "    Omega = 1\n",
    "else:\n",
    "    Omega = 2*np.pi*(1-np.cos(cone))\n",
    "\n",
    "K_w = 9.6e-9 # GeV^-1 cm^-2 s^-1                                          \n",
    "index_w_p = -2.7                                                  \n",
    "E0 = 1000. # GeV                                              \n",
    "                                                    \n",
    "Int_e1_e2 = K*E0**spectral_index_p                                                \n",
    "Np_ = Int_e1_e2*(emax_p**(index_w_p+1)-emin_p**(index_w_p+1))/(E0**index_w_p)/(index_w_p+1)           \n",
    "Rp = K_w*Area_sim_p*Omega*(emax_p**(index_w_p+1)-emin_p**(index_w_p+1))/(E0**index_w_p)/(index_w_p+1) # Rate (in Hz)\n",
    "print(\"The total rate of simulated proton events is %.1f Hz\" % (Rp))\n"
   ]
  },
  {
   "cell_type": "code",
   "execution_count": 15,
   "metadata": {},
   "outputs": [
    {
     "name": "stdout",
     "output_type": "stream",
     "text": [
      "The total rate of simulated gamma events is 2931.5 Hz\n"
     ]
    }
   ],
   "source": [
    "####### Weighting of the gamma simulations #####\n",
    "\n",
    "# HEGRA Crab\n",
    "#  TF1* CrabFluxHEGRA = new TF1(\"CrabFluxHEGRA\",\"[0]*pow(x/1000.,-[1])\",50,80000);\n",
    "#  CrabFluxHEGRA->SetParameter(0,2.83e-11);\n",
    "#  CrabFluxHEGRA->SetParameter(1,2.62);\n",
    "\n",
    "K = Simulated_Events_g*(1+spectral_index_g)/(emax_g**(1+spectral_index_g)-emin_g**(1+spectral_index_g))                    \n",
    "Area_sim = math.pi * math.pow(Max_impact_g,2) # cm^2\n",
    "cone=0\n",
    "if(cone == 0):\n",
    "    Omega = 1\n",
    "else:\n",
    "    Omega = 2*np.pi*(1-np.cos(cone))\n",
    "\n",
    "\n",
    "K_w = 2.83e-14 # GeV^-1 cm^-2 s^-1                                          \n",
    "index_w_g = -2.62                                                  \n",
    "E0 = 1000. # GeV                                              \n",
    "                                                    \n",
    "Int_e1_e2 = K*E0**spectral_index_g                                                \n",
    "N_ = Int_e1_e2*(emax_g**(index_w_g+1)-emin_g**(index_w_g+1))/(E0**index_w_g)/(index_w_g+1)                       \n",
    "R = K_w*Area_sim_g*Omega*(emax_g**(index_w_g+1)-emin_g**(index_w_g+1))/(E0**index_w_g)/(index_w_g+1) # Rate (in Hz)\n",
    "print(\"The total rate of simulated gamma events is %.1f Hz\" % (R))"
   ]
  },
  {
   "cell_type": "code",
   "execution_count": 16,
   "metadata": {},
   "outputs": [
    {
     "data": {
      "image/png": "[encoded data removed]",
      "text/plain": [
       "<Figure size 1080x360 with 2 Axes>"
      ]
     },
     "metadata": {
      "needs_background": "light"
     },
     "output_type": "display_data"
    }
   ],
   "source": [
    "energies_g = np.asarray(energies_g)\n",
    "energies_p = np.asarray(energies_p)\n",
    "e_w = ((energies_g/E0)**(index_w_g-spectral_index_g))*R/N_\n",
    "e_trig_w = ((e_trig_g/E0)**(index_w_g-spectral_index_g))*R/N_\n",
    "ep_w = ((energies_p/E0)**(index_w_p-spectral_index_p))*Rp/Np_\n",
    "ep_trig_w = ((e_trig_p/E0)**(index_w_p-spectral_index_p))*Rp/Np_\n",
    "\n",
    "fig, (ax1, ax2) = plt.subplots(1, 2, figsize=(15,5))\n",
    "\n",
    "ax1.hist(np.log10(energies_g),histtype=u'step',bins=20, density=1,label=\"Simulated\")\n",
    "ax1.hist(np.log10(energies_g),histtype=u'step',bins=20,weights = e_w, density=1,label=\"Weighted to Crab\")\n",
    "ax1.set_yscale('log')\n",
    "#plt.xscale('log')\n",
    "ax1.set_xlabel(\"$log_{10}E (GeV)$\")\n",
    "ax1.grid(ls='--',alpha=.5)\n",
    "ax1.legend()\n",
    "\n",
    "#ax2.hist(np.log10(e),histtype=u'step',bins=20,label=\"Simulated rate\")\n",
    "ax2.hist(np.log10(energies_g),histtype=u'step',bins=20,weights = e_w,label=\"Simulated rate weighted to Crab\")\n",
    "ax2.hist(np.log10(e_trig_g),histtype=u'step',bins=20,weights = e_trig_w,label=\"Triggered rate weighted to Crab\")\n",
    "ax2.hist(np.log10(energies_p),histtype=u'step',bins=20,weights = ep_w,label=\"Simulated Protons\")\n",
    "ax2.hist(np.log10(e_trig_p),histtype=u'step',bins=20,weights = ep_trig_w,label=\"Triggered Protons\")\n",
    "\n",
    "ax2.legend()\n",
    "ax2.set_yscale('log')\n",
    "ax2.set_xlabel(\"$log_{10}E (GeV)$\")\n",
    "ax2.grid(ls='--',alpha=.5)\n",
    "#plt.xscale('log')"
   ]
  },
  {
   "cell_type": "code",
   "execution_count": 17,
   "metadata": {},
   "outputs": [
    {
     "name": "stdout",
     "output_type": "stream",
     "text": [
      "Rate of gammas between 5.0 GeV and 31.5 GeV: 2797.25 Hz\n",
      "Rate of gammas between 31.5 GeV and 199.1 GeV: 139.03 Hz\n",
      "Rate of gammas between 199.1 GeV and 1255.9 GeV: 7.20 Hz\n",
      "Rate of gammas between 1255.9 GeV and 7924.5 GeV: 0.31 Hz\n",
      "Rate of gammas between 7924.5 GeV and 50000.0 GeV: 0.02 Hz\n",
      "Rate of protons between 5.0 GeV and 31.5 GeV: 510377055.83 Hz\n",
      "Rate of protons between 31.5 GeV and 199.1 GeV: 81427320.34 Hz\n",
      "Rate of protons between 199.1 GeV and 1255.9 GeV: 3481404.65 Hz\n",
      "Rate of protons between 1255.9 GeV and 7924.5 GeV: 155302.80 Hz\n",
      "Rate of protons between 7924.5 GeV and 50000.0 GeV: 6708.25 Hz\n",
      "Rate of triggered gammas between 10.0 GeV and 63.1 GeV: 5.863606 Hz\n",
      "Rate of triggered gammas between 63.1 GeV and 398.1 GeV: 1.811348 Hz\n",
      "Rate of triggered gammas between 398.1 GeV and 2511.9 GeV: 0.169873 Hz\n",
      "Rate of triggered gammas between 2511.9 GeV and 15848.9 GeV: 0.011088 Hz\n",
      "Rate of triggered gammas between 15848.9 GeV and 100000.0 GeV: 0.000308 Hz\n",
      "Rate of triggered protons between 10.0 GeV and 63.1 GeV: 8005.557861 Hz\n",
      "Rate of triggered protons between 63.1 GeV and 398.1 GeV: 22715.123113 Hz\n",
      "Rate of triggered protons between 398.1 GeV and 2511.9 GeV: 6425.202841 Hz\n",
      "Rate of triggered protons between 2511.9 GeV and 15848.9 GeV: 772.362136 Hz\n",
      "Rate of triggered protons between 15848.9 GeV and 100000.0 GeV: 76.657084 Hz\n"
     ]
    }
   ],
   "source": [
    "for i in range(0,ebins): # binning in energy\n",
    "    e_w_sum = np.sum(e_w[(energies_g < E[i+1]) & (energies_g > E[i])])\n",
    "    print(\"Rate of gammas between %.1f GeV and %.1f GeV: %.2f Hz\" % (E[i],E[i+1],e_w_sum))\n",
    "for i in range(0,ebins): # binning in energy\n",
    "    e_w_sum = np.sum(ep_w[(energies_p < E[i+1]) & (energies_p > E[i])])\n",
    "    print(\"Rate of protons between %.1f GeV and %.1f GeV: %.2f Hz\" % (E[i],E[i+1],e_w_sum))\n",
    "for i in range(0,ebins): # binning in energy\n",
    "    e_w_sum = np.sum(e_trig_w[(e_trig_g < E_trig[i+1]) & (e_trig_g > E_trig[i])])\n",
    "    print(\"Rate of triggered gammas between %.1f GeV and %.1f GeV: %.6f Hz\" % (E_trig[i],E_trig[i+1],e_w_sum))\n",
    "for i in range(0,ebins): # binning in energy\n",
    "    e_w_sum = np.sum(ep_trig_w[(e_trig_p < E_trig[i+1]) & (e_trig_p > E_trig[i])])\n",
    "    print(\"Rate of triggered protons between %.1f GeV and %.1f GeV: %.6f Hz\" % (E_trig[i],E_trig[i+1],e_w_sum))"
   ]
  },
  {
   "cell_type": "code",
   "execution_count": 18,
   "metadata": {},
   "outputs": [],
   "source": [
    "# Cut optimization for gammas and hadrons\n",
    "\n",
    "final_gamma = np.ndarray(shape=(ebins,gammaness_bins,theta2_bins))\n",
    "final_hadrons = np.ndarray(shape=(ebins,gammaness_bins,theta2_bins))\n",
    "\n",
    "for i in range(0,eedges-1): # binning in energy\n",
    "    e_w_binE = np.sum(e_w[(energies_g < E[i+1]) & (energies_g > E[i])])\n",
    "    for g in range(0,gammaness_bins): # cut in gammaness\n",
    "        Ngammas = []\n",
    "        Nhadrons = []\n",
    "        for t in range(0,theta2_bins): # cut in theta2\n",
    "            e_trig_w_sum = np.sum(e_trig_w[(e_trig_g < E_trig[i+1]) & (e_trig_g > E_trig[i]) \\\n",
    "                                         & (gammaness_g > 0.1*g) & (theta2_g < 0.05*(t+1))])\n",
    "            # Just considering all the hadrons give trigger...\n",
    "            ep_w_sum = np.sum(ep_trig_w[(e_trig_p < E_trig[i+1]) & (e_trig_p > E_trig[i]) \\\n",
    "                                         & (gammaness_p > 0.1*g) & (theta2_p < 0.05*(t+1))])\n",
    "            \n",
    "            final_gamma[i][g][t] = e_trig_w_sum * obstime\n",
    "            final_hadrons[i][g][t] = ep_w_sum * obstime\n"
   ]
  },
  {
   "cell_type": "code",
   "execution_count": 19,
   "metadata": {},
   "outputs": [],
   "source": [
    "def Calculate_sensititity(Ng, Nh, alpha):\n",
    "    significance = (Ng)/np.sqrt(Nh * alpha)\n",
    "    sensitivity = 5/significance * 100 # percentage of Crab\n",
    "    \n",
    "    return sensitivity\n",
    "sens = Calculate_sensititity(final_gamma, final_hadrons, 1)"
   ]
  },
  {
   "cell_type": "code",
   "execution_count": 20,
   "metadata": {},
   "outputs": [],
   "source": [
    "def fill_bin_content(ax,energy_bin):\n",
    "    for i in range(0,gammaness_bins):\n",
    "        for j in range(0,theta2_bins):\n",
    "            text = ax.text((j+0.5)*(0.5/theta2_bins), (i+0.5)*(1/gammaness_bins), \"%.2E %%\" % sens[energy_bin][i][j],\n",
    "                       ha=\"center\", va=\"center\", color=\"w\")\n",
    "    return ax"
   ]
  },
  {
   "cell_type": "code",
   "execution_count": 21,
   "metadata": {},
   "outputs": [],
   "source": [
    "def format_axes(ax,pl):\n",
    "    ax.set_aspect(0.5)\n",
    "\n",
    "    ax.set_ylabel(r'Gammaness',fontsize=15)\n",
    "    ax.set_xlabel(r'$\\theta^2$ (deg$^2$)',fontsize=15)\n",
    "    \n",
    "    starty, endy = ax.get_ylim()\n",
    "    ax.yaxis.set_ticks(np.arange(endy, starty, 0.1)[::-1])\n",
    "    startx, endx = ax.get_xlim()\n",
    "    ax.xaxis.set_ticks(np.arange(startx, endx, 0.1))\n",
    "\n",
    "    cbaxes = fig.add_axes([0.9, 0.125, 0.03, 0.755])\n",
    "    cbar = fig.colorbar(pl,cax=cbaxes)\n",
    "    cbar.set_label('Sensitivity (% Crab)',fontsize=15) "
   ]
  },
  {
   "cell_type": "code",
   "execution_count": null,
   "metadata": {},
   "outputs": [],
   "source": [
    "# Sensitivity plots for different Energy bins\n",
    "for ebin in range(0,ebins):\n",
    "    fig, ax = plt.subplots(figsize=(8,8))\n",
    "    pl = ax.imshow(sens[ebin], cmap='viridis', extent=[0., 0.5, 1., 0.])\n",
    "    fill_bin_content(ax, ebin)\n",
    "\n",
    "    format_axes(ax, pl)"
   ]
  },
  {
   "cell_type": "code",
   "execution_count": 23,
   "metadata": {},
   "outputs": [],
   "source": [
    "def Crab_spectrum(x):\n",
    "    MAGIC_par=[3.23e-11, -2.47, -0.24]\n",
    "    #dFdE = MAGIC_par[0]*pow(x/1.,MAGIC_par[1]+MAGIC_par[2]*np.log10(x/1.))\n",
    "    dFdE = MAGIC_par[0]*pow(x/1000.,MAGIC_par[1]+MAGIC_par[2]*np.log10(x/1000.))\n",
    "    \n",
    "    return dFdE"
   ]
  },
  {
   "cell_type": "code",
   "execution_count": 24,
   "metadata": {},
   "outputs": [],
   "source": [
    "def format_axes_array(ax, arr_i,arr_j):\n",
    "    ax.set_aspect(0.5)\n",
    "    if ((arr_i == 0) and (arr_j == 0)):\n",
    "        ax.set_ylabel(r'Gammaness',fontsize=15)\n",
    "    if ((arr_i == 3) and (arr_j == 2)):\n",
    "        ax.set_xlabel(r'$\\theta^2$ (deg$^2$)',fontsize=15)\n",
    "\n",
    "    starty, endy = ax.get_ylim()\n",
    "    ax.yaxis.set_ticks(np.arange(endy, starty, 0.1)[::-1])\n",
    "    startx, endx = ax.get_xlim()\n",
    "    ax.xaxis.set_ticks(np.arange(startx, endx, 0.1))\n",
    "    \n",
    "    cbaxes = fig.add_axes([0.91, 0.125, 0.03, 0.755])\n",
    "    cbar = fig.colorbar(pl,cax=cbaxes)\n",
    "    cbar.set_label('Sensitivity (% Crab)',fontsize=15) "
   ]
  },
  {
   "cell_type": "code",
   "execution_count": null,
   "metadata": {},
   "outputs": [],
   "source": [
    "#fig, ax = plt.subplots(figsize=(8,8), )\n",
    "fig, axarr = plt.subplots(2,3, sharex=True, sharey=True, figsize=(13.2,18))\n",
    "indices=[]\n",
    "sensitivity = np.ndarray(shape=ebins)\n",
    "\n",
    "sens = sens+1e-6\n",
    "\n",
    "for ebin in range(0,ebins):\n",
    "    arr_i = int(ebin/3)\n",
    "    arr_j = ebin-int(ebin/3)*3\n",
    "    pl = axarr[arr_i,arr_j].imshow(sens[ebin], cmap='viridis_r', extent=[0., 0.5, 1., 0.]\n",
    "                                   #vmin=sens.min(), vmax=sens.max())\n",
    "                            ,norm=LogNorm(vmin=sens.min(), vmax=sens.max()))\n",
    "    format_axes_array(axarr[arr_i,arr_j],arr_i,arr_j)\n",
    "\n",
    "    # gammaness/theta2 indices where the minimum in sensitivity is reached\n",
    "    ind = np.unravel_index(np.argmin(sens[sens>1e-6][ebin], axis=None), sens[ebin].shape)\n",
    "    indices.append(ind)\n",
    "    sensitivity[ebin] = sens[ebin][ind]\n",
    "    \n",
    "fig.subplots_adjust(hspace = 0, wspace = 0)\n",
    "#format_axes(ax)"
   ]
  },
  {
   "cell_type": "code",
   "execution_count": 26,
   "metadata": {},
   "outputs": [],
   "source": [
    "def plot_Crab(ax, percentage=100, **kwargs):\n",
    "    # factor is the percentage of Crab                                                                                                                                                                      \n",
    "    En = np.logspace(math.log10(100),math.log10(3.e4),40) # in TeV\n",
    "    dFdE = percentage / 100. * Crab_spectrum(En)\n",
    "    ax.loglog(En,dFdE * En/1.e3 * En/1.e3, color='gray', **kwargs)\n",
    "    \n",
    "    return ax"
   ]
  },
  {
   "cell_type": "code",
   "execution_count": 27,
   "metadata": {},
   "outputs": [],
   "source": [
    "def format_axes(ax):\n",
    "    ax.set_xscale(\"log\", nonposx='clip')\n",
    "    ax.set_yscale(\"log\", nonposy='clip')\n",
    "    ax.set_xlim(5e1,9.e4)\n",
    "    ax.set_ylim(1.e-14,5.e-10)\n",
    "    ax.set_xlabel(\"Energy [GeV]\")\n",
    "    ax.set_ylabel(r'E$^2$ $\\frac{\\mathrm{dN}}{\\mathrm{dE}}$ [TeV cm$^{-2}$ s$^{-1}$]')\n",
    "    ax.grid(ls='--',alpha=.5)"
   ]
  },
  {
   "cell_type": "code",
   "execution_count": 28,
   "metadata": {},
   "outputs": [
    {
     "data": {
      "text/plain": [
       "array([1.01256165e+01, 5.66470043e+01, 3.84739024e+02, 1.93563542e+03,\n",
       "       1.62559602e+04])"
      ]
     },
     "execution_count": 28,
     "metadata": {},
     "output_type": "execute_result"
    }
   ],
   "source": [
    "sensitivity"
   ]
  },
  {
   "cell_type": "code",
   "execution_count": 29,
   "metadata": {},
   "outputs": [],
   "source": [
    "Emed = Emed_trig[sensitivity>0]\n",
    "def plot_sensitivity(ax):\n",
    "    dFdE = Crab_spectrum(Emed)\n",
    "    ax.loglog(Emed, sensitivity[sensitivity>0] / 100 * dFdE * Emed/1.e3 * Emed/1.e3, label = 'Sensitivity')"
   ]
  },
  {
   "cell_type": "code",
   "execution_count": 30,
   "metadata": {},
   "outputs": [
    {
     "data": {
      "text/plain": [
       "<matplotlib.legend.Legend at 0x1126fc5f8>"
      ]
     },
     "execution_count": 30,
     "metadata": {},
     "output_type": "execute_result"
    },
    {
     "data": {
      "image/png": "[encoded data removed]",
      "text/plain": [
       "<Figure size 432x288 with 1 Axes>"
      ]
     },
     "metadata": {
      "needs_background": "light"
     },
     "output_type": "display_data"
    }
   ],
   "source": [
    "#### SENSITIVITY PLOT ######\n",
    "\n",
    "fig, ax = plt.subplots()\n",
    "plot_sensitivity(ax)\n",
    "\n",
    "plot_Crab(ax, label=r'Crab')\n",
    "#plot_Crab(ax,10,ls='dashed',label='10% Crab')\n",
    "plot_Crab(ax,1,ls='dotted',label='1% Crab')\n",
    "\n",
    "\n",
    "#format_axes(ax)\n",
    "ax.legend(numpoints=1,prop={'size':9},ncol=2,loc='upper right')"
   ]
  },
  {
   "cell_type": "code",
   "execution_count": null,
   "metadata": {},
   "outputs": [],
   "source": []
  }
 ],
 "metadata": {
  "kernelspec": {
   "display_name": "Python 3",
   "language": "python",
   "name": "python3"
  },
  "language_info": {
   "codemirror_mode": {
    "name": "ipython",
    "version": 3
   },
   "file_extension": ".py",
   "mimetype": "text/x-python",
   "name": "python",
   "nbconvert_exporter": "python",
   "pygments_lexer": "ipython3",
   "version": "3.7.6"
  }
 },
 "nbformat": 4,
 "nbformat_minor": 2
}
