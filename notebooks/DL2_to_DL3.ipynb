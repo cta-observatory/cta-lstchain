{
 "cells": [
  {
   "cell_type": "markdown",
   "id": "35d072ef",
   "metadata": {},
   "source": [
    "# This is an example notebook on the usage of the lstchain_create_dl3_file Tool"
   ]
  },
  {
   "cell_type": "markdown",
   "id": "25613774",
   "metadata": {},
   "source": [
    "To check the simple usage of the Tool, one can do the following in a terminal - \n",
    "$ lstchain_create_dl3_file --help\n",
    "\n",
    "or for more detailed help, \n",
    "$ lstchain_create_dl3_file --help-all\n",
    "\n",
    "Currently the Tool requires the information of the main observed source, name and RA/Dec position in degrees, to be passed as arguments, to enter source provenance information, in the final event list HDUs.\n",
    "\n",
    "One should use the same config file for event selection on the observed data, as used on the MC DL2 files for generating the IRFs, which are to be included in the final DL3 file.\n",
    "\n",
    "If one wants to use energy-dependent cuts on gammaness, the IRFs should also be produced with energy-dependent cuts, and should have the GH_CUTS HDU stored with the cuts information. The DL3 Tool will use this HDU to implement the specific cuts in the respective reco energy bin. Otherwise, the Tool will look for the global gammaness cut used in the header values of the IRF HDUs, and apply the same global gammaness cut.\n",
    "\n",
    "For sample DL2 file, one can use the file produced in the earlier session or the sample file stored at `/fefs/aswg/workspace/analysis-school-2022/src_indep/` or if the IRFs are produced using standard MC files of a particular data production, one should use the standard observed data DL2 files of the same data production\n",
    "\n",
    "For example, if one used the point gamma MC DL2 file `/fefs/aswg/data/mc/DL2/20200629_prod5_trans_80/gamma/zenith_20deg/south_pointing/20210923_v0.7.5_prod5_trans_80_dynamic_cleaning/off0.4deg/dl2_gamma_20deg_180deg_off0.4deg_20210923_v0.7.5_prod5_trans_80_dynamic_cleaning_testing.h5`,\n",
    "then one should use observed data DL2 file from `/fefs/aswg/data/real/DL2/20201120/v0.7.5_test_new_calibration_tree/tailcut84_dynamic_cleaning/`\n",
    "\n",
    "To get more explanation on the data format, check https://gamma-astro-data-formats.readthedocs.io/en/latest/index.html"
   ]
  },
  {
   "cell_type": "code",
   "execution_count": 1,
   "id": "c41975ca",
   "metadata": {},
   "outputs": [],
   "source": [
    "import numpy as np\n",
    "import matplotlib.pyplot as plt\n",
    "from traitlets.config.loader import Config\n",
    "\n",
    "from astropy.io import fits\n",
    "from astropy.table import QTable\n",
    "import astropy.units as u\n",
    "\n",
    "from lstchain.paths import dl2_to_dl3_filename\n",
    "from lstchain.io.config import read_configuration_file"
   ]
  },
  {
   "cell_type": "markdown",
   "id": "cae4306d",
   "metadata": {},
   "source": [
    "# Input parameters to convert DL2 file to DL3"
   ]
  },
  {
   "cell_type": "code",
   "execution_count": 2,
   "id": "1c2564f1",
   "metadata": {},
   "outputs": [],
   "source": [
    "# Modify the paths as applicable.\n",
    "base_dir = \"/fefs/aswg/workspace/analysis-school-2022/\"\n",
    "\n",
    "dl2_dir = \"src_indep/\"\n",
    "\n",
    "input_dl2_path = base_dir + dl2_dir + \"dl2_LST-1.Run2968_first10.h5\"\n",
    "dl3_filename = dl2_to_dl3_filename(input_dl2_path)\n",
    "\n",
    "output_dl3_path = \"./\"\n",
    "\n",
    "# Vary the following parameters for different IRF type and cuts\n",
    "config_file = \"../docs/examples/irf_tool_config.json\"\n",
    "\n",
    "irf_file = output_dl3_path + \"pnt_irf_pnt_gamma_en_dep_cuts.fits.gz\"\n",
    "\n",
    "source_name = \"Crab\"\n",
    "source_ra = \"83.63308333deg\"\n",
    "source_dec = \"22.0145deg\""
   ]
  },
  {
   "cell_type": "code",
   "execution_count": 3,
   "id": "4b3379fa",
   "metadata": {},
   "outputs": [
    {
     "data": {
      "text/plain": [
       "{'EventSelector': {'filters': {'intensity': [100, inf],\n",
       "   'width': [0, inf],\n",
       "   'length': [0, inf],\n",
       "   'r': [0, 1],\n",
       "   'wl': [0.1, 1],\n",
       "   'leakage_intensity_width_2': [0, 0.2],\n",
       "   'event_type': [32, 32]}},\n",
       " 'DL3Cuts': {'global_gh_cut': 0.7,\n",
       "  'gh_efficiency': 0.9,\n",
       "  'global_alpha_cut': 10,\n",
       "  'global_theta_cut': 0.2,\n",
       "  'theta_containment': 0.68,\n",
       "  'allowed_tels': [1]},\n",
       " 'DataBinning': {'true_energy_min': 0.01,\n",
       "  'true_energy_max': 100,\n",
       "  'true_energy_n_bins_per_decade': 5,\n",
       "  'reco_energy_min': 0.01,\n",
       "  'reco_energy_max': 100,\n",
       "  'reco_energy_n_bins_per_decade': 5,\n",
       "  'energy_migration_min': 0.2,\n",
       "  'energy_migration_max': 5,\n",
       "  'energy_migration_n_bins': 31,\n",
       "  'fov_offset_min': 0.1,\n",
       "  'fov_offset_max': 1.1,\n",
       "  'fov_offset_n_edges': 9,\n",
       "  'bkg_fov_offset_min': 0,\n",
       "  'bkg_fov_offset_max': 10,\n",
       "  'bkg_fov_offset_n_edges': 21,\n",
       "  'source_offset_min': 0.0001,\n",
       "  'source_offset_max': 1.0001,\n",
       "  'source_offset_n_edges': 1000}}"
      ]
     },
     "execution_count": 3,
     "metadata": {},
     "output_type": "execute_result"
    }
   ],
   "source": [
    "config = Config(read_configuration_file(config_file))\n",
    "config"
   ]
  },
  {
   "cell_type": "markdown",
   "id": "519af379",
   "metadata": {},
   "source": [
    "!lstchain_create_dl3_file --help-all"
   ]
  },
  {
   "cell_type": "code",
   "execution_count": 4,
   "id": "911516e1",
   "metadata": {},
   "outputs": [
    {
     "name": "stdout",
     "output_type": "stream",
     "text": [
      "\u001b[0m"
     ]
    }
   ],
   "source": [
    "!lstchain_create_dl3_file \\\n",
    "--input-dl2 $input_dl2_path \\\n",
    "--input-irf $irf_file \\\n",
    "--output-dl3-path $output_dl3_path \\\n",
    "--source-name $source_name \\\n",
    "--source-ra=$source_ra \\\n",
    "--source-dec=$source_dec \\\n",
    "--config $config_file \\\n",
    "--overwrite"
   ]
  },
  {
   "cell_type": "markdown",
   "id": "4bb5135f",
   "metadata": {},
   "source": [
    "!lstchain_create_dl3_index_files --help-all"
   ]
  },
  {
   "cell_type": "code",
   "execution_count": 5,
   "id": "5aa8ee32",
   "metadata": {},
   "outputs": [
    {
     "name": "stdout",
     "output_type": "stream",
     "text": [
      "Run 2968 does not contain HDU PSF\n",
      "\u001b[0m"
     ]
    }
   ],
   "source": [
    "! lstchain_create_dl3_index_files \\\n",
    "--input-dl3-dir $output_dl3_path \\\n",
    "--file-pattern dl3*gz \\\n",
    "--overwrite"
   ]
  },
  {
   "cell_type": "markdown",
   "id": "f8854e99",
   "metadata": {},
   "source": [
    "# Check the DL3 info"
   ]
  },
  {
   "cell_type": "code",
   "execution_count": 6,
   "id": "18e06dc2",
   "metadata": {},
   "outputs": [
    {
     "name": "stdout",
     "output_type": "stream",
     "text": [
      "Filename: ./dl3_LST-1.Run2968_first10.fits.gz\n",
      "No.    Name      Ver    Type      Cards   Dimensions   Format\n",
      "  0  PRIMARY       1 PrimaryHDU       4   ()      \n",
      "  1  EVENTS        1 BinTableHDU     76   99424R x 11C   [K, D, D, D, D, D, K, D, D, D, D]   \n",
      "  2  GTI           1 BinTableHDU     29   1R x 2C   [D, D]   \n",
      "  3  POINTING      1 BinTableHDU     41   1R x 5C   [D, D, D, D, D]   \n",
      "  4  EFFECTIVE AREA    1 BinTableHDU     43   1R x 5C   [19D, 19D, D, D, 19D]   \n",
      "  5  ENERGY DISPERSION    1 BinTableHDU     49   1R x 7C   [19D, 19D, 30D, 30D, D, D, 570D]   \n",
      "  6  BACKGROUND    1 BinTableHDU     43   1R x 5C   [19D, 19D, 20D, 20D, 380D]   \n",
      "  7  GH_CUTS       1 BinTableHDU     27   19R x 4C   [D, D, D, D]   \n",
      "  8  RAD_MAX       1 BinTableHDU     43   1R x 5C   [19D, 19D, D, D, 19D]   \n"
     ]
    }
   ],
   "source": [
    "f = fits.open(output_dl3_path + dl3_filename)\n",
    "f.info()"
   ]
  },
  {
   "cell_type": "code",
   "execution_count": 7,
   "id": "89a42bc1",
   "metadata": {},
   "outputs": [
    {
     "data": {
      "text/html": [
       "<div><i>QTable length=7</i>\n",
       "<table id=\"table139616278150832\" class=\"table-striped table-bordered table-condensed\">\n",
       "<thead><tr><th>OBS_ID</th><th>HDU_TYPE</th><th>HDU_CLASS</th><th>FILE_DIR</th><th>FILE_NAME</th><th>HDU_NAME</th><th>SIZE</th></tr></thead>\n",
       "<thead><tr><th>int64</th><th>bytes8</th><th>bytes10</th><th>bytes1</th><th>bytes33</th><th>bytes17</th><th>int64</th></tr></thead>\n",
       "<tr><td>2968</td><td>events</td><td>events</td><td>.</td><td>dl3_LST-1.Run2968_first10.fits.gz</td><td>EVENTS</td><td>6752059</td></tr>\n",
       "<tr><td>2968</td><td>gti</td><td>gti</td><td>.</td><td>dl3_LST-1.Run2968_first10.fits.gz</td><td>GTI</td><td>6752059</td></tr>\n",
       "<tr><td>2968</td><td>pointing</td><td>pointing</td><td>.</td><td>dl3_LST-1.Run2968_first10.fits.gz</td><td>POINTING</td><td>6752059</td></tr>\n",
       "<tr><td>2968</td><td>aeff</td><td>aeff_2d</td><td>.</td><td>dl3_LST-1.Run2968_first10.fits.gz</td><td>EFFECTIVE AREA</td><td>6752059</td></tr>\n",
       "<tr><td>2968</td><td>edisp</td><td>edisp_2d</td><td>.</td><td>dl3_LST-1.Run2968_first10.fits.gz</td><td>ENERGY DISPERSION</td><td>6752059</td></tr>\n",
       "<tr><td>2968</td><td>bkg</td><td>bkg_2d</td><td>.</td><td>dl3_LST-1.Run2968_first10.fits.gz</td><td>BACKGROUND</td><td>6752059</td></tr>\n",
       "<tr><td>2968</td><td>rad_max</td><td>rad_max_2d</td><td>.</td><td>dl3_LST-1.Run2968_first10.fits.gz</td><td>RAD_MAX</td><td>6752059</td></tr>\n",
       "</table></div>"
      ],
      "text/plain": [
       "<QTable length=7>\n",
       "OBS_ID HDU_TYPE HDU_CLASS  ...      HDU_NAME       SIZE \n",
       "int64   bytes8   bytes10   ...      bytes17       int64 \n",
       "------ -------- ---------- ... ----------------- -------\n",
       "  2968   events     events ...            EVENTS 6752059\n",
       "  2968      gti        gti ...               GTI 6752059\n",
       "  2968 pointing   pointing ...          POINTING 6752059\n",
       "  2968     aeff    aeff_2d ...    EFFECTIVE AREA 6752059\n",
       "  2968    edisp   edisp_2d ... ENERGY DISPERSION 6752059\n",
       "  2968      bkg     bkg_2d ...        BACKGROUND 6752059\n",
       "  2968  rad_max rad_max_2d ...           RAD_MAX 6752059"
      ]
     },
     "execution_count": 7,
     "metadata": {},
     "output_type": "execute_result"
    }
   ],
   "source": [
    "QTable.read(output_dl3_path+\"hdu-index.fits.gz\")"
   ]
  },
  {
   "cell_type": "code",
   "execution_count": 8,
   "id": "ef2cdb24",
   "metadata": {},
   "outputs": [
    {
     "data": {
      "text/plain": [
       "OrderedDict([('CREATOR', 'lstchain v0.9.2.dev2+gf8ac195.d20220214'),\n",
       "             ('HDUDOC',\n",
       "              'https://github.com/open-gamma-ray-astro/gamma-astro-data-formats'),\n",
       "             ('HDUVERS', '0.2'),\n",
       "             ('HDUCLASS', 'GADF'),\n",
       "             ('ORIGIN', 'CTA'),\n",
       "             ('TELESCOP', 'CTA-N'),\n",
       "             ('CREATED', '2022-02-14 14:37:54.776'),\n",
       "             ('HDUCLAS1', 'INDEX'),\n",
       "             ('HDUCLAS2', 'HDU'),\n",
       "             ('INSTRUME', 'LST-1'),\n",
       "             ('BASE_DIR',\n",
       "              '/fefs/aswg/workspace/chaitanya.priyadarshi/software/cta-lstchain/notebooks'),\n",
       "             ('EXTNAME', 'HDU INDEX')])"
      ]
     },
     "execution_count": 8,
     "metadata": {},
     "output_type": "execute_result"
    }
   ],
   "source": [
    "QTable.read(output_dl3_path+\"hdu-index.fits.gz\").meta"
   ]
  },
  {
   "cell_type": "code",
   "execution_count": 9,
   "id": "8d72865e",
   "metadata": {},
   "outputs": [
    {
     "data": {
      "text/html": [
       "<div><i>QTable length=1</i>\n",
       "<table id=\"table139621698244720\" class=\"table-striped table-bordered table-condensed\">\n",
       "<thead><tr><th>OBS_ID</th><th>DATE-OBS</th><th>TIME-OBS</th><th>DATE-END</th><th>TIME-END</th><th>RA_PNT</th><th>DEC_PNT</th><th>ZEN_PNT</th><th>ALT_PNT</th><th>AZ_PNT</th><th>RA_OBJ</th><th>DEC_OBJ</th><th>TSTART</th><th>TSTOP</th><th>ONTIME</th><th>TELAPSE</th><th>LIVETIME</th><th>DEADC</th><th>OBJECT</th><th>OBS_MODE</th><th>N_TELS</th><th>TELLIST</th><th>INSTRUME</th></tr></thead>\n",
       "<thead><tr><th></th><th></th><th></th><th></th><th></th><th>deg</th><th>deg</th><th>deg</th><th>deg</th><th>deg</th><th>deg</th><th>deg</th><th>s</th><th>s</th><th>s</th><th>s</th><th>s</th><th></th><th></th><th></th><th></th><th></th><th></th></tr></thead>\n",
       "<thead><tr><th>int64</th><th>bytes10</th><th>bytes12</th><th>bytes10</th><th>bytes12</th><th>float64</th><th>float64</th><th>float64</th><th>float64</th><th>float64</th><th>float64</th><th>float64</th><th>float64</th><th>float64</th><th>float64</th><th>float64</th><th>float64</th><th>float64</th><th>bytes4</th><th>bytes6</th><th>int64</th><th>bytes5</th><th>bytes5</th></tr></thead>\n",
       "<tr><td>2968</td><td>2020-11-21</td><td>00:49:07.551</td><td>2020-11-21</td><td>00:50:48.577</td><td>83.26649185504121</td><td>21.78727828618377</td><td>26.615508929151133</td><td>63.38449107084887</td><td>98.60988543842592</td><td>83.63308333</td><td>22.0145</td><td>1605919747.55119</td><td>1605919848.577336</td><td>101.0285594463348</td><td>101.0261459350586</td><td>96.97985761133062</td><td>0.9599251750476078</td><td>Crab</td><td>WOBBLE</td><td>1</td><td>LST-1</td><td>LST-1</td></tr>\n",
       "</table></div>"
      ],
      "text/plain": [
       "<QTable length=1>\n",
       "OBS_ID  DATE-OBS    TIME-OBS    DATE-END  ... OBS_MODE N_TELS TELLIST INSTRUME\n",
       "                                          ...                                 \n",
       "int64   bytes10     bytes12     bytes10   ...  bytes6  int64   bytes5  bytes5 \n",
       "------ ---------- ------------ ---------- ... -------- ------ ------- --------\n",
       "  2968 2020-11-21 00:49:07.551 2020-11-21 ...   WOBBLE      1   LST-1    LST-1"
      ]
     },
     "execution_count": 9,
     "metadata": {},
     "output_type": "execute_result"
    }
   ],
   "source": [
    "QTable.read(output_dl3_path+\"obs-index.fits.gz\")"
   ]
  },
  {
   "cell_type": "code",
   "execution_count": 10,
   "id": "aa28c0fd",
   "metadata": {},
   "outputs": [
    {
     "data": {
      "text/plain": [
       "OrderedDict([('CREATOR', 'lstchain v0.9.2.dev2+gf8ac195.d20220214'),\n",
       "             ('HDUDOC',\n",
       "              'https://github.com/open-gamma-ray-astro/gamma-astro-data-formats'),\n",
       "             ('HDUVERS', '0.2'),\n",
       "             ('HDUCLASS', 'GADF'),\n",
       "             ('ORIGIN', 'CTA'),\n",
       "             ('TELESCOP', 'CTA-N'),\n",
       "             ('CREATED', '2022-02-14 14:37:54.855'),\n",
       "             ('HDUCLAS1', 'INDEX'),\n",
       "             ('HDUCLAS2', 'OBS'),\n",
       "             ('INSTRUME', 'LST-1'),\n",
       "             ('MJDREFI', 40587),\n",
       "             ('MJDREFF', 0.0),\n",
       "             ('EXTNAME', 'OBS INDEX')])"
      ]
     },
     "execution_count": 10,
     "metadata": {},
     "output_type": "execute_result"
    }
   ],
   "source": [
    "QTable.read(output_dl3_path+\"obs-index.fits.gz\").meta"
   ]
  },
  {
   "cell_type": "code",
   "execution_count": null,
   "id": "4261ddb5",
   "metadata": {},
   "outputs": [],
   "source": []
  }
 ],
 "metadata": {
  "kernelspec": {
   "display_name": "lst-dev",
   "language": "python",
   "name": "lst-dev"
  },
  "language_info": {
   "codemirror_mode": {
    "name": "ipython",
    "version": 3
   },
   "file_extension": ".py",
   "mimetype": "text/x-python",
   "name": "python",
   "nbconvert_exporter": "python",
   "pygments_lexer": "ipython3",
   "version": "3.8.12"
  }
 },
 "nbformat": 4,
 "nbformat_minor": 5
}
