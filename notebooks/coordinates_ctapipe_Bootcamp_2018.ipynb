{
 "cells": [
  {
   "cell_type": "markdown",
   "metadata": {
    "slideshow": {
     "slide_type": "slide"
    }
   },
   "source": [
    "<br />\n",
    "<br />\n",
    "<div align=\"center\" style=\"font-size: 40pt\">\n",
    "\n",
    "<p style=\"text-align: center;\">Fantastic coordinates and how to transform them</p>\n",
    "\n",
    "</div>\n",
    "\n",
    "<br />\n",
    "<br />\n",
    "<br />\n",
    "<div align=\"center\" style=\"font-size: 20pt\">\n",
    "\n",
    "<p style=\"text-align: center\">LST Analysis Bootcamp - LNL, Legnaro, Padova - 26.11.2018</p>\n",
    "\n",
    "<p style=\"text-align: center\">Thomas Gasparetto (@thomasgas)</p>\n",
    "\n",
    "<br />\n",
    "<br />\n",
    "\n",
    "<p style=\"text-align: left\">INFN, UNITS, UGA, LAPP</p>\n",
    "\n",
    "<img height=\"300px\" src=\"https://raw.githubusercontent.com/thomasgas/stuff/master/loghi.png\" alt=\"\"/>\n",
    "\n",
    "</div>"
   ]
  },
  {
   "cell_type": "markdown",
   "metadata": {
    "slideshow": {
     "slide_type": "slide"
    }
   },
   "source": [
    "## Intro\n",
    "\n",
    "- Short presentation on the different coordinates frames that we have in ctapipe at the moment.\n",
    "- More a **user point-of-view** presentation rather then a developer one.\n",
    "- Changes foreseen in ctapipe before the version 1.0, but these reference frames should be **ALMOST** ok. \n",
    "- Development of frames and transformation might change (faster computation, improved , etc..)"
   ]
  },
  {
   "cell_type": "markdown",
   "metadata": {
    "slideshow": {
     "slide_type": "fragment"
    }
   },
   "source": [
    "**CREED_VTK** (CTA Rendering Event-by-Event Display with VTK)\n",
    "\n",
    "I developed a library for the 3D rendering of the telescopes. Follow the instructions on https://github.com/thomasgas/CREED_VTK to install it inside your ctapipe environment and to use this notebook."
   ]
  },
  {
   "cell_type": "markdown",
   "metadata": {
    "slideshow": {
     "slide_type": "fragment"
    }
   },
   "source": [
    "# inside the ctapipe environment\n",
    "- git clone https://github.com/thomasgas/CREED_VTK.git\n",
    "- cd CREED_VTK\n",
    "- python setup.py install"
   ]
  },
  {
   "cell_type": "markdown",
   "metadata": {
    "slideshow": {
     "slide_type": "fragment"
    }
   },
   "source": [
    "**Still under development...feel free to add comments (issues) and suggestions for funtionalities!**"
   ]
  },
  {
   "cell_type": "markdown",
   "metadata": {
    "slideshow": {
     "slide_type": "subslide"
    }
   },
   "source": [
    "## Some imports..."
   ]
  },
  {
   "cell_type": "code",
   "execution_count": 1,
   "metadata": {
    "slideshow": {
     "slide_type": "fragment"
    }
   },
   "outputs": [],
   "source": [
    "import astropy.units as u\n",
    "import copy\n",
    "import numpy as np\n",
    "import matplotlib.pyplot as plt\n",
    "\n",
    "from ctapipe.io import event_source\n",
    "from ctapipe.calib import CameraCalibrator\n",
    "from ctapipe.utils import get_dataset, get_dataset_path\n",
    "\n",
    "from ctapipe.reco import HillasReconstructor\n",
    "from ctapipe.reco.hillas_intersection import HillasIntersection\n",
    "\n",
    "from ctapipe.image import tailcuts_clean, hillas_parameters, HillasParameterizationError\n",
    "from ctapipe.image.timing_parameters import timing_parameters\n",
    "\n",
    "from ctapipe.visualization import ArrayDisplay, CameraDisplay"
   ]
  },
  {
   "cell_type": "code",
   "execution_count": 2,
   "metadata": {
    "slideshow": {
     "slide_type": "fragment"
    }
   },
   "outputs": [],
   "source": [
    "from ctapipe.coordinates import HorizonFrame, GroundFrame, TiltedGroundFrame\n",
    "from ctapipe.coordinates import NominalFrame, CameraFrame, TelescopeFrame"
   ]
  },
  {
   "cell_type": "markdown",
   "metadata": {
    "slideshow": {
     "slide_type": "subslide"
    }
   },
   "source": [
    "## Open some data. Default is the test dataset in ctapipe"
   ]
  },
  {
   "cell_type": "code",
   "execution_count": 3,
   "metadata": {
    "slideshow": {
     "slide_type": "fragment"
    }
   },
   "outputs": [],
   "source": [
    "try:\n",
    "    DATA_PATH = \"/home/thomas/Programs/astro/CTAPIPE_DAN/\"\n",
    "    filename = 'gamma_20deg_0deg_run100___cta-prod3_desert-2150m-Paranal-merged.simtel.gz'\n",
    "    filename = DATA_PATH + filename\n",
    "    source = event_source(filename)\n",
    "    # select layout\n",
    "    layout = np.loadtxt(\"utils_coords/CTA.prod3Sb.3HB9-NG.lis\", usecols=0, dtype=int)\n",
    "    layout = set(layout)\n",
    "    source.allowed_tels = layout\n",
    "except:\n",
    "    filename = get_dataset_path(\"gamma_test.simtel.gz\")\n",
    "    source = event_source(filename)\n",
    "    \n",
    "source.max_events = 10\n",
    "events = [copy.deepcopy(event) for event in source]\n",
    "event = events[0]"
   ]
  },
  {
   "cell_type": "code",
   "execution_count": 4,
   "metadata": {
    "slideshow": {
     "slide_type": "subslide"
    }
   },
   "outputs": [],
   "source": [
    "# Calibration and find \"great event\"\n",
    "cal = CameraCalibrator(None, None, r1_product='HESSIOR1Calibrator', extractor_product='NeighbourPeakIntegrator')\n",
    "for event in events:\n",
    "    cal.calibrate(event)\n",
    "    \n",
    "# Find \"big\" event\n",
    "events_amplitude = []\n",
    "for event in events:\n",
    "    event_amplitude = 0\n",
    "    for tel_id in event.r0.tels_with_data:\n",
    "        if event.dl1.tel[tel_id].image is not None:\n",
    "            event_amplitude += event.dl1.tel[tel_id].image[0].sum()\n",
    "    events_amplitude.append(event_amplitude)\n",
    "events_amplitude = np.array(events_amplitude)\n",
    "\n",
    "mm = events_amplitude.argmax()\n",
    "event = events[mm]"
   ]
  },
  {
   "cell_type": "code",
   "execution_count": 5,
   "metadata": {
    "slideshow": {
     "slide_type": "fragment"
    }
   },
   "outputs": [
    {
     "data": {
      "text/plain": [
       "{4, 6, 11, 53, 54, 60, 64, 67, 70, 74, 88, 91, 259, 274, 284, 292}"
      ]
     },
     "execution_count": 5,
     "metadata": {},
     "output_type": "execute_result"
    }
   ],
   "source": [
    "event.r0.tels_with_data"
   ]
  },
  {
   "cell_type": "code",
   "execution_count": 6,
   "metadata": {
    "slideshow": {
     "slide_type": "fragment"
    }
   },
   "outputs": [
    {
     "data": {
      "text/plain": [
       "TelescopeDescription(optics=LST, camera=LSTCam)"
      ]
     },
     "execution_count": 6,
     "metadata": {},
     "output_type": "execute_result"
    }
   ],
   "source": [
    "tel_id = 4\n",
    "event.inst.subarray.tel[tel_id]"
   ]
  },
  {
   "cell_type": "markdown",
   "metadata": {
    "slideshow": {
     "slide_type": "slide"
    }
   },
   "source": [
    "## HorizonFrame\n",
    "Spherical system to describe the position of an object in terms of altitude and azimuth.\n",
    "\n",
    "Pointing direction or source position in the sky is described as an HorizonFrame."
   ]
  },
  {
   "cell_type": "code",
   "execution_count": 7,
   "metadata": {
    "slideshow": {
     "slide_type": "fragment"
    }
   },
   "outputs": [
    {
     "name": "stdout",
     "output_type": "stream",
     "text": [
      "<HorizonFrame Coordinate (pointing_direction=None, array_direction=None): (az, alt) in deg\n",
      "    (0., 69.99999967)>\n"
     ]
    }
   ],
   "source": [
    "array_pointing = HorizonFrame(alt=event.mcheader.run_array_direction[1],\n",
    "                              az=event.mcheader.run_array_direction[0])\n",
    "print(array_pointing)"
   ]
  },
  {
   "cell_type": "markdown",
   "metadata": {
    "slideshow": {
     "slide_type": "fragment"
    }
   },
   "source": [
    "Optional (**present implementation**): pass \"pointing direction\" and \"array direction\" to transform directly from CameraFrame and HorizonFrame."
   ]
  },
  {
   "cell_type": "markdown",
   "metadata": {
    "slideshow": {
     "slide_type": "subslide"
    }
   },
   "source": [
    "## CameraFrame\n",
    "Camera coordinate frame. Simple physical cartesian frame describing the 2D dimensional position of objects in the focal plane of the telescope.\n",
    "\n",
    "**Typical usage**: Position of pixels in the focal plane."
   ]
  },
  {
   "cell_type": "code",
   "execution_count": 8,
   "metadata": {
    "slideshow": {
     "slide_type": "fragment"
    }
   },
   "outputs": [
    {
     "name": "stdout",
     "output_type": "stream",
     "text": [
      "<CameraFrame Coordinate (focal_length=28.0 m, rotation=0.0 deg, pointing_direction=None, array_direction=None): (x, y) in m\n",
      "    [( 0.        ,  0.        ), (-0.00944877,  0.04909909),\n",
      "     (-0.0472442 ,  0.01636691), ..., (-0.6519913 , -0.96560888),\n",
      "     (-0.6141959 , -0.93287672), (-0.62364467, -0.88377762)]>\n"
     ]
    }
   ],
   "source": [
    "geom = event.inst.subarray.tel[tel_id].camera\n",
    "pix_x, pix_y = geom.pix_x, geom.pix_y\n",
    "fl = event.inst.subarray.tel[tel_id].optics.equivalent_focal_length\n",
    "\n",
    "camera_coord = CameraFrame(x=pix_x, y=pix_y,\n",
    "                           focal_length=fl, rotation = 0*u.deg)\n",
    "print(camera_coord)"
   ]
  },
  {
   "cell_type": "code",
   "execution_count": 9,
   "metadata": {
    "slideshow": {
     "slide_type": "fragment"
    }
   },
   "outputs": [],
   "source": [
    "%matplotlib qt\n",
    "plt.scatter(camera_coord.x, camera_coord.y)\n",
    "plt.axis('square');"
   ]
  },
  {
   "cell_type": "markdown",
   "metadata": {
    "slideshow": {
     "slide_type": "subslide"
    }
   },
   "source": [
    "## TelescopeFrame\n",
    "Telescope coordinate frame. Cartesian system to describe the angular offset of a given position in reference to pointing direction of a given telescope. Pointing corrections should applied to the transformation between this frame and the camera frame.\n",
    "\n",
    "Not really used now..."
   ]
  },
  {
   "cell_type": "code",
   "execution_count": 10,
   "metadata": {
    "slideshow": {
     "slide_type": "fragment"
    }
   },
   "outputs": [
    {
     "name": "stdout",
     "output_type": "stream",
     "text": [
      "<TelescopeFrame Coordinate (pointing_direction=None): (x, y) in rad\n",
      "    [( 0.        ,  0.        ), (-0.00033746,  0.00175354),\n",
      "     (-0.00168729,  0.00058453), ..., (-0.0232854 , -0.03448603),\n",
      "     (-0.02193557, -0.03331703), (-0.02227302, -0.03156349)]>\n"
     ]
    }
   ],
   "source": [
    "telescope_coords = camera_coord.transform_to(TelescopeFrame())\n",
    "print(telescope_coords)"
   ]
  },
  {
   "cell_type": "code",
   "execution_count": 11,
   "metadata": {
    "slideshow": {
     "slide_type": "fragment"
    }
   },
   "outputs": [],
   "source": [
    "%matplotlib qt\n",
    "plt.scatter(telescope_coords.x, telescope_coords.y)\n",
    "plt.axis('square');"
   ]
  },
  {
   "cell_type": "markdown",
   "metadata": {
    "slideshow": {
     "slide_type": "subslide"
    }
   },
   "source": [
    "## NominalFrame\n",
    "Nominal coordinate frame. Cartesian system to describe the angular offset of a given position in reference to the pointing direction of a nominal array pointing. This is identical, for most of the cases, to the TelescopeFrame, a part for **divergent pointing**.\n",
    "\n",
    "- 2D reconstruction (HillasIntersector) is performed in this frame \n",
    "- 3D reconstruction (HillasReconstructor) doesn't need this frame"
   ]
  },
  {
   "cell_type": "markdown",
   "metadata": {
    "slideshow": {
     "slide_type": "fragment"
    }
   },
   "source": [
    "Let's play a bit with 3 divergent LSTs"
   ]
  },
  {
   "cell_type": "code",
   "execution_count": 12,
   "metadata": {
    "slideshow": {
     "slide_type": "subslide"
    }
   },
   "outputs": [],
   "source": [
    "array_pointing = HorizonFrame(alt=45 * u.deg, az=0 * u.deg)\n",
    "\n",
    "point_direction_1 = HorizonFrame(alt=45 * u.deg, az = -5 * u.deg)\n",
    "point_direction_2 = HorizonFrame(alt=45 * u.deg, az = 5 * u.deg)\n",
    "point_direction_3 = HorizonFrame(alt=50 * u.deg, az = 0 * u.deg)\n",
    "\n",
    "nom_frame_1 = NominalFrame(array_direction=array_pointing, pointing_direction=point_direction_1)\n",
    "nom_frame_2 = NominalFrame(array_direction=array_pointing, pointing_direction=point_direction_2)\n",
    "nom_frame_3 = NominalFrame(array_direction=array_pointing, pointing_direction=point_direction_3)\n",
    "\n",
    "nom_1 = camera_coord.transform_to(nom_frame_1)\n",
    "nom_2 = camera_coord.transform_to(nom_frame_2)\n",
    "nom_3 = camera_coord.transform_to(nom_frame_3)"
   ]
  },
  {
   "cell_type": "code",
   "execution_count": 13,
   "metadata": {
    "slideshow": {
     "slide_type": "fragment"
    }
   },
   "outputs": [],
   "source": [
    "%matplotlib qt\n",
    "plt.scatter(y=nom_1.x, x=nom_1.y, c = \"red\", s = 10)\n",
    "plt.scatter(y=nom_2.x, x=nom_2.y, c = \"blue\", s = 10)\n",
    "plt.scatter(y=nom_3.x, x=nom_3.y, c = \"green\", s = 10)\n",
    "plt.axis('square')\n",
    "plt.show()"
   ]
  },
  {
   "cell_type": "code",
   "execution_count": 14,
   "metadata": {
    "slideshow": {
     "slide_type": "subslide"
    }
   },
   "outputs": [],
   "source": [
    "array_pointing = HorizonFrame(alt=45 * u.deg, az=0 * u.deg)\n",
    "\n",
    "point_direction_1 = HorizonFrame(alt=70 * u.deg, az = -5 * u.deg)\n",
    "point_direction_2 = HorizonFrame(alt=70 * u.deg, az = 5 * u.deg)\n",
    "point_direction_3 = HorizonFrame(alt=72 * u.deg, az = 0 * u.deg)\n",
    "\n",
    "nom_frame_1 = NominalFrame(array_direction=array_pointing, pointing_direction=point_direction_1)\n",
    "nom_frame_2 = NominalFrame(array_direction=array_pointing, pointing_direction=point_direction_2)\n",
    "nom_frame_3 = NominalFrame(array_direction=array_pointing, pointing_direction=point_direction_3)\n",
    "\n",
    "nom_1 = camera_coord.transform_to(nom_frame_1).transform_to(array_pointing)\n",
    "nom_2 = camera_coord.transform_to(nom_frame_2).transform_to(array_pointing)\n",
    "nom_3 = camera_coord.transform_to(nom_frame_3).transform_to(array_pointing)"
   ]
  },
  {
   "cell_type": "code",
   "execution_count": 15,
   "metadata": {
    "slideshow": {
     "slide_type": "fragment"
    }
   },
   "outputs": [],
   "source": [
    "%matplotlib qt\n",
    "from utils_coords.plot_on_sky import sky_in_box\n",
    "az_list = [nom_1.az.value, nom_2.az.value, nom_3.az.value]\n",
    "zen_list = [90-nom_1.alt.value, 90-nom_2.alt.value, 90-nom_3.alt.value]\n",
    "labels = [\"1\", \"2\", \"3\"]\n",
    "fig3 = plt.figure(figsize=(6, 6))\n",
    "sky_in_box(fig3, az_deg=az_list, zen_deg=zen_list, label=labels, center=array_pointing)\n",
    "plt.legend()\n",
    "plt.show()"
   ]
  },
  {
   "cell_type": "markdown",
   "metadata": {
    "slideshow": {
     "slide_type": "subslide"
    }
   },
   "source": [
    "## GroundFrame\n",
    "Ground coordinate frame. This is a simple cartesian frame describing the 3D position of objects compared to the array ground level in relation to the conter of the array. \n",
    "\n",
    "**Typical usage**: positions of telescopes on the ground (x, y, z)"
   ]
  },
  {
   "cell_type": "code",
   "execution_count": 18,
   "metadata": {
    "slideshow": {
     "slide_type": "fragment"
    }
   },
   "outputs": [
    {
     "name": "stderr",
     "output_type": "stream",
     "text": [
      "/home/thomas/Programs/astro/ctapipe/ctapipe/instrument/subarray.py:118: UserWarning: SubarrayDescription.pos_x is deprecated. Use tel_coords.x\n",
      "  warnings.warn(\"SubarrayDescription.pos_x is deprecated. Use \"\n",
      "/home/thomas/Programs/astro/ctapipe/ctapipe/instrument/subarray.py:125: UserWarning: SubarrayDescription.pos_y is deprecated. Use tel_coords.y\n",
      "  warnings.warn(\"SubarrayDescription.pos_y is deprecated. Use \"\n"
     ]
    }
   ],
   "source": [
    "%matplotlib qt\n",
    "event.inst.subarray.peek()"
   ]
  },
  {
   "cell_type": "code",
   "execution_count": 17,
   "metadata": {
    "slideshow": {
     "slide_type": "fragment"
    }
   },
   "outputs": [
    {
     "name": "stderr",
     "output_type": "stream",
     "text": [
      "/home/thomas/Programs/astro/ctapipe/ctapipe/instrument/subarray.py:118: UserWarning: SubarrayDescription.pos_x is deprecated. Use tel_coords.x\n",
      "  warnings.warn(\"SubarrayDescription.pos_x is deprecated. Use \"\n",
      "/home/thomas/Programs/astro/ctapipe/ctapipe/instrument/subarray.py:125: UserWarning: SubarrayDescription.pos_y is deprecated. Use tel_coords.y\n",
      "  warnings.warn(\"SubarrayDescription.pos_y is deprecated. Use \"\n"
     ]
    }
   ],
   "source": [
    "%matplotlib qt\n",
    "event.inst.subarray.select_subarray(\"Prod3b layout\", layout).peek()"
   ]
  },
  {
   "cell_type": "markdown",
   "metadata": {
    "slideshow": {
     "slide_type": "subslide"
    }
   },
   "source": [
    "### Telescopes position in 3D"
   ]
  },
  {
   "cell_type": "code",
   "execution_count": 19,
   "metadata": {
    "slideshow": {
     "slide_type": "fragment"
    }
   },
   "outputs": [],
   "source": [
    "from CREED_VTK import CREED_VTK "
   ]
  },
  {
   "cell_type": "code",
   "execution_count": 20,
   "metadata": {
    "slideshow": {
     "slide_type": "fragment"
    }
   },
   "outputs": [],
   "source": [
    "try:\n",
    "    render = CREED_VTK(event, telescopes_ids=list(layout))\n",
    "except:\n",
    "    render = CREED_VTK(event, telescopes_ids= event.inst.subarray.tel_ids.tolist())\n",
    "render.add_gnd_tels()\n",
    "render.add_gnd_frame(size=2000)\n",
    "render.tel_labels()\n",
    "\n",
    "render.camera_view(elev=20)\n",
    "render.show(width= 1000, height=800)"
   ]
  },
  {
   "cell_type": "markdown",
   "metadata": {
    "slideshow": {
     "slide_type": "subslide"
    }
   },
   "source": [
    "## TiltedGroundFrame\n",
    "Tilted ground coordinate frame. Cartesian system describing the 2D dimensional projected positions of objects in a tilted plane described by the pointing direction (HorizonFrame). \n",
    "\n",
    "**Tipical usage**: shower core position reconstruction."
   ]
  },
  {
   "cell_type": "code",
   "execution_count": 21,
   "metadata": {
    "slideshow": {
     "slide_type": "fragment"
    }
   },
   "outputs": [],
   "source": [
    "array_pointing = HorizonFrame(alt=event.mcheader.run_array_direction[1],\n",
    "                              az=event.mcheader.run_array_direction[0])"
   ]
  },
  {
   "cell_type": "code",
   "execution_count": 22,
   "metadata": {
    "slideshow": {
     "slide_type": "fragment"
    }
   },
   "outputs": [],
   "source": [
    "try:\n",
    "    render = CREED_VTK(event, telescopes_ids=list(layout))\n",
    "except:\n",
    "    render = CREED_VTK(event, telescopes_ids= event.inst.subarray.tel_ids.tolist())\n",
    "render.add_gnd_tels()\n",
    "render.add_gnd_frame(size=2000)\n",
    "render.tel_labels() \n",
    "\n",
    "render.add_tilted_tels()\n",
    "render.add_tilted_frame(size=2000)\n",
    "\n",
    "render.camera_view(elev=20)\n",
    "render.show(width= 1000, height=800)"
   ]
  }
 ],
 "metadata": {
  "celltoolbar": "Slideshow",
  "kernelspec": {
   "display_name": "Python 3",
   "language": "python",
   "name": "python3"
  },
  "language_info": {
   "codemirror_mode": {
    "name": "ipython",
    "version": 3
   },
   "file_extension": ".py",
   "mimetype": "text/x-python",
   "name": "python",
   "nbconvert_exporter": "python",
   "pygments_lexer": "ipython3",
   "version": "3.6.5"
  }
 },
 "nbformat": 4,
 "nbformat_minor": 2
}
