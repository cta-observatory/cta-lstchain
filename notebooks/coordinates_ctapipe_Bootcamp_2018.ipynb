{
 "cells": [
  {
   "cell_type": "markdown",
   "metadata": {
    "slideshow": {
     "slide_type": "slide"
    }
   },
   "source": [
    "<br />\n",
    "<br />\n",
    "<div align=\"center\" style=\"font-size: 40pt\">\n",
    "\n",
    "<p style=\"text-align: center;\">Fantastic coordinates and how to transform them</p>\n",
    "\n",
    "</div>\n",
    "\n",
    "<br />\n",
    "<br />\n",
    "<br />\n",
    "<div align=\"center\" style=\"font-size: 20pt\">\n",
    "\n",
    "<p style=\"text-align: center\">LST Analysis Bootcamp - LNL, Legnaro, Padova - 26.11.2018</p>\n",
    "\n",
    "<p style=\"text-align: center\">Thomas Gasparetto (@thomasgas)</p>\n",
    "\n",
    "<br />\n",
    "<br />\n",
    "\n",
    "<p style=\"text-align: left\">INFN, UNITS, UGA, LAPP</p>\n",
    "\n",
    "<img height=\"300px\" src=\"https://raw.githubusercontent.com/thomasgas/stuff/master/loghi.png\" alt=\"\"/>\n",
    "\n",
    "</div>"
   ]
  },
  {
   "cell_type": "markdown",
   "metadata": {
    "slideshow": {
     "slide_type": "slide"
    }
   },
   "source": [
    "## Intro\n",
    "\n",
    "- Short presentation on the different coordinates frames that we have in ctapipe at the moment.\n",
    "- More a **user point-of-view** presentation rather then a developer one.\n",
    "- Changes foreseen in ctapipe before the version 1.0, but these reference frames should be **ALMOST** ok. \n",
    "- Development of frames and transformation might change (faster computation, improved , etc..)"
   ]
  },
  {
   "cell_type": "markdown",
   "metadata": {
    "slideshow": {
     "slide_type": "fragment"
    }
   },
   "source": [
    "**CREED_VTK** (CTA Rendering Event-by-Event Display with VTK)\n",
    "\n",
    "I developed a library for the 3D rendering of the telescopes. Follow the instructions on https://github.com/thomasgas/CREED_VTK to install it inside your ctapipe environment and to use this notebook."
   ]
  },
  {
   "cell_type": "markdown",
   "metadata": {
    "slideshow": {
     "slide_type": "fragment"
    }
   },
   "source": [
    "# inside the ctapipe environment\n",
    "- git clone https://github.com/thomasgas/CREED_VTK.git\n",
    "- cd CREED_VTK\n",
    "- python setup.py install"
   ]
  },
  {
   "cell_type": "markdown",
   "metadata": {
    "slideshow": {
     "slide_type": "fragment"
    }
   },
   "source": [
    "**Still under development...feel free to add comments (issues) and suggestions for funtionalities!**"
   ]
  },
  {
   "cell_type": "markdown",
   "metadata": {
    "slideshow": {
     "slide_type": "subslide"
    }
   },
   "source": [
    "## Some imports..."
   ]
  },
  {
   "cell_type": "code",
   "execution_count": null,
   "metadata": {
    "slideshow": {
     "slide_type": "fragment"
    }
   },
   "outputs": [],
   "source": [
    "import astropy.units as u\n",
    "import copy\n",
    "import numpy as np\n",
    "import matplotlib.pyplot as plt\n",
    "%matplotlib inline\n",
    "\n",
    "from ctapipe.io import event_source\n",
    "from ctapipe.calib import CameraCalibrator\n",
    "from ctapipe.utils import get_dataset, get_dataset_path\n",
    "\n",
    "from ctapipe.visualization import ArrayDisplay\n",
    "from astropy.coordinates import SkyCoord"
   ]
  },
  {
   "cell_type": "code",
   "execution_count": null,
   "metadata": {
    "slideshow": {
     "slide_type": "fragment"
    }
   },
   "outputs": [],
   "source": [
    "from ctapipe.coordinates import HorizonFrame, GroundFrame, TiltedGroundFrame\n",
    "from ctapipe.coordinates import NominalFrame, CameraFrame, TelescopeFrame"
   ]
  },
  {
   "cell_type": "markdown",
   "metadata": {
    "slideshow": {
     "slide_type": "subslide"
    }
   },
   "source": [
    "## Open some data. Default is the test dataset in ctapipe"
   ]
  },
  {
   "cell_type": "code",
   "execution_count": null,
   "metadata": {
    "slideshow": {
     "slide_type": "fragment"
    }
   },
   "outputs": [],
   "source": [
    "try:\n",
    "    DATA_PATH = \"/home/thomas/Programs/astro/CTAPIPE_DAN/\"\n",
    "    filename = 'gamma_20deg_0deg_run100___cta-prod3_desert-2150m-Paranal-merged.simtel.gz'\n",
    "    filename = DATA_PATH + filename\n",
    "    source = event_source(filename)\n",
    "    # select layout\n",
    "    layout = np.loadtxt(\"utils_coords/CTA.prod3Sb.3HB9-NG.lis\", usecols=0, dtype=int)\n",
    "    layout = set(layout)\n",
    "    source.allowed_tels = layout\n",
    "    source.max_events = 10\n",
    "    events = [copy.deepcopy(event) for event in source]\n",
    "    event = events[0]\n",
    "except:\n",
    "    filename = get_dataset_path(\"gamma_test.simtel.gz\")\n",
    "    source = event_source(filename)\n",
    "    source.max_events = 10\n",
    "    events = [copy.deepcopy(event) for event in source]\n",
    "    event = events[0]\n",
    "    layout = set(event.inst.subarray.tel_ids)    "
   ]
  },
  {
   "cell_type": "code",
   "execution_count": null,
   "metadata": {},
   "outputs": [],
   "source": []
  },
  {
   "cell_type": "code",
   "execution_count": null,
   "metadata": {
    "slideshow": {
     "slide_type": "subslide"
    }
   },
   "outputs": [],
   "source": [
    "# Calibration and find \"great event\"\n",
    "cal = CameraCalibrator(None, None, r1_product='HESSIOR1Calibrator', extractor_product='NeighbourPeakIntegrator')\n",
    "for event in events:\n",
    "    cal.calibrate(event)\n",
    "    \n",
    "# Find \"big\" event\n",
    "events_amplitude = []\n",
    "for event in events:\n",
    "    event_amplitude = 0\n",
    "    for tel_id in event.r0.tels_with_data:\n",
    "        if event.dl1.tel[tel_id].image is not None:\n",
    "            event_amplitude += event.dl1.tel[tel_id].image[0].sum()\n",
    "    events_amplitude.append(event_amplitude)\n",
    "events_amplitude = np.array(events_amplitude)\n",
    "\n",
    "mm = events_amplitude.argmax()\n",
    "event = events[mm]"
   ]
  },
  {
   "cell_type": "code",
   "execution_count": null,
   "metadata": {
    "slideshow": {
     "slide_type": "fragment"
    }
   },
   "outputs": [],
   "source": [
    "event.r0.tels_with_data"
   ]
  },
  {
   "cell_type": "code",
   "execution_count": null,
   "metadata": {
    "slideshow": {
     "slide_type": "fragment"
    }
   },
   "outputs": [],
   "source": [
    "tel_id = 11\n",
    "event.inst.subarray.tel[tel_id]"
   ]
  },
  {
   "cell_type": "markdown",
   "metadata": {
    "slideshow": {
     "slide_type": "slide"
    }
   },
   "source": [
    "## HorizonFrame\n",
    "Spherical system to describe the position of an object in terms of altitude and azimuth.\n",
    "\n",
    "Pointing direction or source position in the sky is described as an HorizonFrame."
   ]
  },
  {
   "cell_type": "code",
   "execution_count": null,
   "metadata": {
    "slideshow": {
     "slide_type": "fragment"
    }
   },
   "outputs": [],
   "source": [
    "array_pointing = SkyCoord(alt=event.mcheader.run_array_direction[1],\n",
    "                          az=event.mcheader.run_array_direction[0], \n",
    "                          frame=HorizonFrame())\n",
    "\n",
    "print(array_pointing)"
   ]
  },
  {
   "cell_type": "markdown",
   "metadata": {
    "slideshow": {
     "slide_type": "fragment"
    }
   },
   "source": [
    "Optional (**present implementation**): pass \"pointing direction\" and \"array direction\" to transform directly from CameraFrame and HorizonFrame."
   ]
  },
  {
   "cell_type": "markdown",
   "metadata": {
    "slideshow": {
     "slide_type": "subslide"
    }
   },
   "source": [
    "## CameraFrame\n",
    "Camera coordinate frame. Simple physical cartesian frame describing the 2D dimensional position of objects in the focal plane of the telescope.\n",
    "\n",
    "**Typical usage**: Position of pixels in the focal plane."
   ]
  },
  {
   "cell_type": "code",
   "execution_count": null,
   "metadata": {
    "slideshow": {
     "slide_type": "fragment"
    }
   },
   "outputs": [],
   "source": [
    "geom = event.inst.subarray.tel[tel_id].camera\n",
    "pix_x, pix_y = geom.pix_x, geom.pix_y\n",
    "fl = event.inst.subarray.tel[tel_id].optics.equivalent_focal_length   "
   ]
  },
  {
   "cell_type": "code",
   "execution_count": null,
   "metadata": {
    "slideshow": {
     "slide_type": "fragment"
    }
   },
   "outputs": [],
   "source": [
    "telescope_pointing = SkyCoord(alt=(event.mc.tel[tel_id].altitude_raw * u.rad).to(u.deg), \n",
    "                              az=(event.mc.tel[tel_id].altitude_raw * u.rad).to(u.deg), \n",
    "                              frame=HorizonFrame())\n",
    "\n",
    "camera_frame = CameraFrame(focal_length=fl, rotation=0 * u.deg, pointing_direction=telescope_pointing)\n",
    "\n",
    "cam_coords = SkyCoord(x=pix_x, y=pix_y, frame=camera_frame)\n",
    "\n",
    "print(cam_coords)"
   ]
  },
  {
   "cell_type": "code",
   "execution_count": null,
   "metadata": {
    "slideshow": {
     "slide_type": "fragment"
    }
   },
   "outputs": [],
   "source": [
    "plt.scatter(cam_coords.x, cam_coords.y)\n",
    "plt.axis('square');"
   ]
  },
  {
   "cell_type": "markdown",
   "metadata": {
    "slideshow": {
     "slide_type": "subslide"
    }
   },
   "source": [
    "## TelescopeFrame\n",
    "Telescope coordinate frame. Cartesian system to describe the angular offset of a given position in reference to pointing direction of a given telescope. Pointing corrections should applied to the transformation between this frame and the camera frame.\n",
    "\n",
    "Not really used now..."
   ]
  },
  {
   "cell_type": "code",
   "execution_count": null,
   "metadata": {
    "slideshow": {
     "slide_type": "fragment"
    }
   },
   "outputs": [],
   "source": [
    "telescope_coords = cam_coords.transform_to(TelescopeFrame())\n",
    "print(telescope_coords)"
   ]
  },
  {
   "cell_type": "code",
   "execution_count": null,
   "metadata": {
    "slideshow": {
     "slide_type": "fragment"
    }
   },
   "outputs": [],
   "source": [
    "plt.scatter(telescope_coords.x, telescope_coords.y)\n",
    "plt.axis('square');"
   ]
  },
  {
   "cell_type": "markdown",
   "metadata": {
    "slideshow": {
     "slide_type": "subslide"
    }
   },
   "source": [
    "## NominalFrame\n",
    "Nominal coordinate frame. Cartesian system to describe the angular offset of a given position in reference to the pointing direction of a nominal array pointing. This is identical, for most of the cases, to the TelescopeFrame, a part for **divergent pointing**.\n",
    "\n",
    "- 2D reconstruction (HillasIntersector) is performed in this frame \n",
    "- 3D reconstruction (HillasReconstructor) doesn't need this frame\n",
    "\n",
    "NOTE: here I'm explicitely transforming:\n",
    "\n",
    "**Camera --> Telescope --> nominal --> HorizonFrame**\n",
    "\n",
    "**NOTE: for plotting with *%matplotlib qt*, if the plot doesn't appear or if it closes by itself, just re-run the cell. Use Ctrl + Enter**"
   ]
  },
  {
   "cell_type": "markdown",
   "metadata": {
    "slideshow": {
     "slide_type": "fragment"
    }
   },
   "source": [
    "Let's play a bit with 3 divergent LSTs"
   ]
  },
  {
   "cell_type": "code",
   "execution_count": null,
   "metadata": {
    "slideshow": {
     "slide_type": "subslide"
    }
   },
   "outputs": [],
   "source": [
    "array_pointing = SkyCoord(alt=45 * u.deg, az=0 * u.deg, frame=HorizonFrame())\n",
    "\n",
    "tel_pointing_1 = SkyCoord(alt=45 * u.deg, az=-5 * u.deg, frame=HorizonFrame())\n",
    "tel_pointing_2 = SkyCoord(alt=45 * u.deg, az=5 * u.deg, frame=HorizonFrame())\n",
    "tel_pointing_3 = SkyCoord(alt=50 * u.deg, az=0 * u.deg, frame=HorizonFrame())\n",
    "\n",
    "tel_frame_1 = TelescopeFrame(pointing_direction=tel_pointing_1)\n",
    "tel_frame_2 = TelescopeFrame(pointing_direction=tel_pointing_2)\n",
    "tel_frame_3 = TelescopeFrame(pointing_direction=tel_pointing_3)\n",
    "\n",
    "nom_frame = NominalFrame(array_direction=array_pointing)\n",
    "\n",
    "nom_1_coords = cam_coords.transform_to(tel_frame_1).transform_to(nom_frame)\n",
    "nom_2_coords = cam_coords.transform_to(tel_frame_2).transform_to(nom_frame)\n",
    "nom_3_coords = cam_coords.transform_to(tel_frame_3).transform_to(nom_frame)"
   ]
  },
  {
   "cell_type": "code",
   "execution_count": null,
   "metadata": {
    "scrolled": true,
    "slideshow": {
     "slide_type": "fragment"
    }
   },
   "outputs": [],
   "source": [
    "%matplotlib inline\n",
    "\n",
    "plt.scatter(y=nom_1_coords.x, x=nom_1_coords.y, s = 10, label = \"1\")\n",
    "plt.scatter(y=nom_2_coords.x, x=nom_2_coords.y, s = 10, label = \"2\")\n",
    "plt.scatter(y=nom_3_coords.x, x=nom_3_coords.y, s = 10, label = \"3\")\n",
    "plt.axis('square')\n",
    "plt.legend()\n",
    "plt.show()"
   ]
  },
  {
   "cell_type": "code",
   "execution_count": null,
   "metadata": {},
   "outputs": [],
   "source": [
    "array_pointing = SkyCoord(alt=45 * u.deg, az=0 * u.deg, frame=HorizonFrame())\n",
    "\n",
    "tel_pointing_1 = SkyCoord(alt=45 * u.deg, az=-5 * u.deg, frame=HorizonFrame())\n",
    "tel_pointing_2 = SkyCoord(alt=45 * u.deg, az=5 * u.deg, frame=HorizonFrame())\n",
    "tel_pointing_3 = SkyCoord(alt=50 * u.deg, az=0 * u.deg, frame=HorizonFrame())\n",
    "\n",
    "tel_frame_1 = TelescopeFrame(pointing_direction=tel_pointing_1)\n",
    "tel_frame_2 = TelescopeFrame(pointing_direction=tel_pointing_2)\n",
    "tel_frame_3 = TelescopeFrame(pointing_direction=tel_pointing_3)\n",
    "\n",
    "nom_frame = NominalFrame(array_direction=array_pointing)\n",
    "\n",
    "nom_1_coords = cam_coords.transform_to(tel_frame_1).transform_to(nom_frame).transform_to(HorizonFrame())\n",
    "nom_2_coords = cam_coords.transform_to(tel_frame_2).transform_to(nom_frame).transform_to(HorizonFrame())\n",
    "nom_3_coords = cam_coords.transform_to(tel_frame_3).transform_to(nom_frame).transform_to(HorizonFrame())"
   ]
  },
  {
   "cell_type": "code",
   "execution_count": null,
   "metadata": {
    "slideshow": {
     "slide_type": "fragment"
    }
   },
   "outputs": [],
   "source": [
    "%matplotlib qt\n",
    "from utils_coords.plot_on_sky import sky_in_box\n",
    "\n",
    "az_list = [nom_1_coords.az.value, nom_2_coords.az.value, nom_3_coords.az.value]\n",
    "zen_list = [90 - nom_1_coords.alt.value, 90 - nom_2_coords.alt.value, 90 - nom_3_coords.alt.value]\n",
    "labels = [\"1\", \"2\", \"3\"]\n",
    "fig3 = plt.figure(figsize=(6, 6))\n",
    "sky_in_box(fig3, az_deg=az_list, zen_deg=zen_list, label=labels, center=array_pointing)\n",
    "plt.legend()"
   ]
  },
  {
   "cell_type": "markdown",
   "metadata": {
    "slideshow": {
     "slide_type": "subslide"
    }
   },
   "source": [
    "## GroundFrame\n",
    "Ground coordinate frame. This is a simple cartesian frame describing the 3D position of objects compared to the array ground level in relation to the conter of the array. \n",
    "\n",
    "**Typical usage**: positions of telescopes on the ground (x, y, z)"
   ]
  },
  {
   "cell_type": "code",
   "execution_count": null,
   "metadata": {
    "slideshow": {
     "slide_type": "fragment"
    }
   },
   "outputs": [],
   "source": [
    "%matplotlib inline\n",
    "event.inst.subarray.peek()"
   ]
  },
  {
   "cell_type": "code",
   "execution_count": null,
   "metadata": {
    "slideshow": {
     "slide_type": "fragment"
    }
   },
   "outputs": [],
   "source": [
    "%matplotlib inline\n",
    "event.inst.subarray.select_subarray(\"Prod3b layout\", layout).peek()"
   ]
  },
  {
   "cell_type": "markdown",
   "metadata": {
    "slideshow": {
     "slide_type": "subslide"
    }
   },
   "source": [
    "### Telescopes position in 3D"
   ]
  },
  {
   "cell_type": "code",
   "execution_count": null,
   "metadata": {
    "slideshow": {
     "slide_type": "fragment"
    }
   },
   "outputs": [],
   "source": [
    "from CREED_VTK import CREED_VTK "
   ]
  },
  {
   "cell_type": "code",
   "execution_count": null,
   "metadata": {
    "slideshow": {
     "slide_type": "fragment"
    }
   },
   "outputs": [],
   "source": [
    "try:\n",
    "    render = CREED_VTK(event, telescopes_ids=list(layout))\n",
    "except:\n",
    "    render = CREED_VTK(event, telescopes_ids= event.inst.subarray.tel_ids.tolist())\n",
    "render.add_gnd_tels()\n",
    "render.add_gnd_frame(size=2000)\n",
    "render.tel_labels()\n",
    "\n",
    "render.camera_view(elev=20)\n",
    "render.show(width= 1000, height=800)"
   ]
  },
  {
   "cell_type": "markdown",
   "metadata": {
    "slideshow": {
     "slide_type": "subslide"
    }
   },
   "source": [
    "## TiltedGroundFrame\n",
    "Tilted ground coordinate frame. Cartesian system describing the 2D dimensional projected positions of objects in a tilted plane described by the pointing direction (HorizonFrame). \n",
    "\n",
    "**Tipical usage**: shower core position reconstruction."
   ]
  },
  {
   "cell_type": "code",
   "execution_count": null,
   "metadata": {
    "slideshow": {
     "slide_type": "fragment"
    }
   },
   "outputs": [],
   "source": [
    "array_pointing = SkyCoord(alt=event.mcheader.run_array_direction[1],\n",
    "                          az=event.mcheader.run_array_direction[0], \n",
    "                          frame=HorizonFrame())"
   ]
  },
  {
   "cell_type": "code",
   "execution_count": null,
   "metadata": {
    "slideshow": {
     "slide_type": "fragment"
    }
   },
   "outputs": [],
   "source": [
    "try:\n",
    "    render = CREED_VTK(event, telescopes_ids=list(layout))\n",
    "except:\n",
    "    render = CREED_VTK(event, telescopes_ids= event.inst.subarray.tel_ids.tolist())\n",
    "render.add_gnd_tels()\n",
    "render.add_gnd_frame(size=2000)\n",
    "render.tel_labels() \n",
    "\n",
    "render.add_tilted_tels()\n",
    "render.add_tilted_frame(size=2000)\n",
    "\n",
    "render.camera_view(elev=20)\n",
    "render.show(width= 1000, height=800)"
   ]
  }
 ],
 "metadata": {
  "celltoolbar": "Slideshow",
  "kernelspec": {
   "display_name": "Python 3",
   "language": "python",
   "name": "python3"
  },
  "language_info": {
   "codemirror_mode": {
    "name": "ipython",
    "version": 3
   },
   "file_extension": ".py",
   "mimetype": "text/x-python",
   "name": "python",
   "nbconvert_exporter": "python",
   "pygments_lexer": "ipython3",
   "version": "3.6.5"
  }
 },
 "nbformat": 4,
 "nbformat_minor": 2
}
