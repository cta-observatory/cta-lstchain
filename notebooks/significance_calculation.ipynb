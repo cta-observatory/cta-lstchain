{
 "cells": [
  {
   "cell_type": "markdown",
   "metadata": {},
   "source": [
    "# Fast Analaysis LST Plots"
   ]
  },
  {
   "cell_type": "markdown",
   "metadata": {},
   "source": [
    "### Setup notebook appearance"
   ]
  },
  {
   "cell_type": "code",
   "execution_count": 1,
   "metadata": {},
   "outputs": [
    {
     "data": {
      "application/javascript": [
       "IPython.OutputArea.auto_scroll_threshold = 9999;\n"
      ],
      "text/plain": [
       "<IPython.core.display.Javascript object>"
      ]
     },
     "metadata": {},
     "output_type": "display_data"
    }
   ],
   "source": [
    "%%javascript\n",
    "IPython.OutputArea.auto_scroll_threshold = 9999;"
   ]
  },
  {
   "cell_type": "code",
   "execution_count": 2,
   "metadata": {},
   "outputs": [
    {
     "name": "stderr",
     "output_type": "stream",
     "text": [
      "/var/folders/dq/8bgn_4wj18d7yb0mzn_jyg5w0000gn/T/ipykernel_30097/3777615979.py:1: DeprecationWarning: Importing display from IPython.core.display is deprecated since IPython 7.14, please import from IPython display\n",
      "  from IPython.core.display import display, HTML\n"
     ]
    },
    {
     "data": {
      "text/html": [
       "<style>.container { width:100% !important; }</style>"
      ],
      "text/plain": [
       "<IPython.core.display.HTML object>"
      ]
     },
     "metadata": {},
     "output_type": "display_data"
    }
   ],
   "source": [
    "from IPython.core.display import display, HTML\n",
    "display(HTML(\"<style>.container { width:100% !important; }</style>\"))"
   ]
  },
  {
   "cell_type": "markdown",
   "metadata": {},
   "source": [
    "### Run example wobble analysis"
   ]
  },
  {
   "cell_type": "code",
   "execution_count": 3,
   "metadata": {},
   "outputs": [],
   "source": [
    "from lstchain.high_level.significance_calculation import LOGGER, setup_logging\n",
    "from lstchain.scripts.lstchain_significance_calculation import run\n",
    "setup_logging(2)\n",
    "run('/home/mykhailo.dalchenko/code/cta-lstchain/docs/examples/post_dl2_analysis/config_wobble.toml')"
   ]
  },
  {
   "cell_type": "markdown",
   "metadata": {},
   "source": [
    "### Run example on/off analysis"
   ]
  },
  {
   "cell_type": "code",
   "execution_count": 4,
   "metadata": {
    "scrolled": false
   },
   "outputs": [
    {
     "name": "stderr",
     "output_type": "stream",
     "text": [
      "2020-12-11 14:18:18,930 - post_dl2 - INFO - Loaded configuration: \n",
      "[input]\n",
      "data_tag = \"v0.5.1_v03\"\n",
      "columns_to_read = [ \"alt_tel\", \"az_tel\", \"dragon_time\", \"gammaness\", \"intensity\", \"leakage2_intensity\", \"n_pixels\", \"phi\", \"psi\", \"reco_src_x\", \"reco_src_y\", \"wl\",]\n",
      "\n",
      "[output]\n",
      "interactive = false\n",
      "directory = \"/tmp\"\n",
      "\n",
      "[preselection]\n",
      "intensity = [ 300, 1000000,]\n",
      "leakage2_intensity = [ 0.0, 0.2,]\n",
      "wl = [ 0.01, 1.0,]\n",
      "gammaness = [ 0.9, 1.0,]\n",
      "n_pixels = [ 0, 2000,]\n",
      "\n",
      "[analysis]\n",
      "type = \"on_off\"\n",
      "runs_on = [ 1874, 1875, 1876, 1878, 1879, 1880,]\n",
      "runs_off = [ 1877, 1881,]\n",
      "\n",
      "[analysis.parameters]\n",
      "n_points = 4\n",
      "\n",
      "[analysis.selection]\n",
      "theta2 = [ 0.075, 0.5, 2.0,]\n",
      "alpha = [ 5.0, 20.0, 80.0,]\n",
      "\n",
      "[plot_style.figure]\n",
      "figsize = 12\n",
      "\n",
      "[plot_style.font]\n",
      "size = 20\n",
      "\n",
      "2020-12-11 14:18:18,967 - post_dl2 - INFO - Running ON/OFF analysis\n",
      "2020-12-11 14:18:18,968 - post_dl2 - INFO - ON data runs: [1874, 1875, 1876, 1878, 1879, 1880]\n",
      "2020-12-11 14:19:05,942 - post_dl2 - INFO - ON observation time: 6407.8668959089955\n",
      "2020-12-11 14:19:05,944 - post_dl2 - INFO - OFF data runs: [1877, 1881]\n",
      "2020-12-11 14:19:23,565 - post_dl2 - INFO - OFF observation time: 2426.285903691999\n",
      "2020-12-11 14:19:32,152 - post_dl2 - INFO - Number of observed ON and OFF events are:\n",
      " 508, 25\n",
      "2020-12-11 14:19:32,154 - post_dl2 - INFO - Excess is 439.3169164882227\n",
      "2020-12-11 14:19:32,155 - post_dl2 - INFO - Excess significance is 13.40307919187028\n",
      "2020-12-11 14:19:32,288 - post_dl2 - INFO - Perform alpha analysis\n",
      "2020-12-11 14:19:34,140 - post_dl2 - INFO - Number of observed ON and OFFevents are:\n",
      " 767, 147\n",
      "2020-12-11 14:19:34,142 - post_dl2 - INFO - Excess is 377.5509761388286\n",
      "2020-12-11 14:19:34,144 - post_dl2 - INFO - Excess significance is 8.099879859890942\n",
      "2020-12-11 14:19:34,303 - post_dl2 - INFO - Interactive mode OFF, no plots will be displayed\n"
     ]
    }
   ],
   "source": [
    "run('/home/mykhailo.dalchenko/code/cta-lstchain/docs/examples/post_dl2_analysis/config_on_off.toml')"
   ]
  },
  {
   "cell_type": "code",
   "execution_count": null,
   "metadata": {
    "scrolled": true
   },
   "outputs": [],
   "source": []
  }
 ],
 "metadata": {
  "kernelspec": {
   "display_name": "Python 3 (ipykernel)",
   "language": "python",
   "name": "python3"
  },
  "language_info": {
   "codemirror_mode": {
    "name": "ipython",
    "version": 3
   },
   "file_extension": ".py",
   "mimetype": "text/x-python",
   "name": "python",
   "nbconvert_exporter": "python",
   "pygments_lexer": "ipython3",
   "version": "3.8.12"
  }
 },
 "nbformat": 4,
 "nbformat_minor": 4
}
