{
 "cells": [
  {
   "cell_type": "markdown",
   "id": "36ff4150",
   "metadata": {},
   "source": [
    "### This notebook reads in the DL1 data check information from night-wise hdf5 files, and uses them to select runs for analysis\n",
    "\n",
    "Features:\n",
    "- Finds the runs in which the telescope was pointing towards the source of interest\n",
    "- Selects the desired range of zenith angle\n",
    "- Excludes runs in which interleaved pedestals or flatfield events were missing \n",
    "- Excludes runs which have too high noise (std dev of charge in interleaved pedestals)\n",
    "- Checks sun and moon position, to spot datataken in twilight or moon conditions\n",
    "- Checks other quantities and applies custom cuts to remove suspicious runs\n",
    "\n",
    "Please note that the cuts are custom cuts for the specific application of selecting very good quality Crab runs. The cut values will have to be adapted to the different sources, and also to the purpose of the analysis. Some of the runs rejected here may still be useful.\n"
   ]
  },
  {
   "cell_type": "code",
   "execution_count": null,
   "id": "48ae82e0",
   "metadata": {},
   "outputs": [],
   "source": [
    "import glob\n",
    "import tables\n",
    "from ctapipe.io import read_table\n",
    "from astropy.table import Table, vstack\n",
    "from astropy.coordinates import get_moon, get_sun, AltAz, SkyCoord\n",
    "from astropy.time import Time\n",
    "import astropy.units as u\n",
    "from astroplan.moon import moon_illumination\n",
    "\n",
    "from lstchain.reco.utils import location\n",
    "\n",
    "import numpy as np\n",
    "import matplotlib.pyplot as plt\n",
    "from datetime import datetime\n",
    "\n",
    "%matplotlib inline"
   ]
  },
  {
   "cell_type": "markdown",
   "id": "9d629412",
   "metadata": {},
   "source": [
    "### Set the path to the DL1 datacheck files "
   ]
  },
  {
   "cell_type": "code",
   "execution_count": null,
   "id": "a6793dc0",
   "metadata": {},
   "outputs": [],
   "source": [
    "# Set the input files: load all the available night-wise DL1_datacheck_YYYYMMDD.h5 files (or at least \n",
    "# those of the nights which contain the data you intend to analyze)\n",
    "\n",
    "# The files are quite light, 5MB per night in average, and are available in the IT cluster under the directories \n",
    "# /fefs/aswg/data/real/OSA/DL1DataCheck_LongTerm/v0.9/YYYYMMDD/\n",
    "\n",
    "#datacheck_files = glob.glob(\"/Users/moralejo/CTA/LST/RealData/datacheck/v0.9/DL1_datacheck_202*.h5\")\n",
    "datacheck_files = glob.glob(\"/fefs/aswg/data/real/OSA/DL1DataCheck_LongTerm/v0.9/20*/DL1_datacheck_20*.h5\")\n",
    "\n",
    "datacheck_files.sort()\n",
    "print(f'A total of {len(datacheck_files)} files will be read')\n",
    "#print(datacheck_files)"
   ]
  },
  {
   "cell_type": "markdown",
   "id": "0f88f2b3",
   "metadata": {},
   "source": [
    "### Coordinates of the source we intend to analyze"
   ]
  },
  {
   "cell_type": "code",
   "execution_count": null,
   "id": "ee82590b",
   "metadata": {},
   "outputs": [],
   "source": [
    "source_coordinates = SkyCoord.from_name(\"Crab Nebula\")\n",
    "print(source_coordinates)"
   ]
  },
  {
   "cell_type": "markdown",
   "id": "87991792",
   "metadata": {},
   "source": [
    "### Reminder: contents of the night-wise DL1 datacheck hdf5 files\n",
    "\n",
    "There are five different tables in each file containing datacheck info:\n",
    "\n",
    "With one row per run:\n",
    "\n",
    "- runsummary\n",
    "\n",
    "- pixwise_runsummary\n",
    "\n",
    "\n",
    "With one row per subrun (containing only events of a specific type):\n",
    "\n",
    "- cosmics\n",
    "\n",
    "- flatfield\n",
    "\n",
    "- pedestals"
   ]
  },
  {
   "cell_type": "markdown",
   "id": "82399c20",
   "metadata": {},
   "source": [
    "### Create the tables and fill them from the files:\n",
    "Note that files that have some missing table (typically flatfield or pedestals) will not be loaded, hence the corresponding runs won't be considered!"
   ]
  },
  {
   "cell_type": "code",
   "execution_count": null,
   "id": "ea6b739b",
   "metadata": {
    "scrolled": false
   },
   "outputs": [],
   "source": [
    "dcheck_pixwise_runsummary = []\n",
    "dcheck_runsummary = []\n",
    "\n",
    "dcheck_cosmics = []\n",
    "dcheck_flatfield = []\n",
    "dcheck_pedestals = []\n",
    "\n",
    "for file in datacheck_files:\n",
    "    \n",
    "    # print(file)\n",
    "    \n",
    "    # Check that the file contains the necessary info:\n",
    "    with tables.open_file(file) as a:\n",
    "        if \"pedestals\" not in a.root:\n",
    "            print(f\"file {file} does not contain the interleaved pedestals table... Skipping!!\")\n",
    "            continue\n",
    "        if \"flatfield\" not in a.root:\n",
    "            print(f\"file {file} does not contain the interleaved flatfield table... Skipping!!\")\n",
    "            continue\n",
    "\n",
    "    dcheck_pixwise_runsummary.append(read_table(file, \"/pixwise_runsummary\"))\n",
    "    \n",
    "    table = read_table(file, \"/runsummary/table\")\n",
    "    # Set to 0 the number of flatfield events in nan (means none was found):\n",
    "    table['num_flatfield'] = np.where(np.isnan(table['num_flatfield']), 0, table['num_flatfield'])\n",
    "    dcheck_runsummary.append(table)\n",
    "    \n",
    "    dcheck_cosmics.append(read_table(file, \"/cosmics/table\"))\n",
    "    dcheck_flatfield.append(read_table(file, \"/flatfield/table\"))\n",
    "    dcheck_pedestals.append(read_table(file, \"/pedestals/table\"))\n",
    "\n",
    "    \n",
    "# Ignore metadata conflicts below. i.e. metadata_conflicts='silent'. \n",
    "# It is just that columns which contain some nan are float64, while those which do not are float32\n",
    "dcheck_runsummary = vstack(dcheck_runsummary, metadata_conflicts='silent')\n",
    "dcheck_cosmics = vstack(dcheck_cosmics, metadata_conflicts='silent')\n",
    "\n",
    "dcheck_pixwise_runsummary = vstack(dcheck_pixwise_runsummary)\n",
    "dcheck_flatfield = vstack(dcheck_flatfield)\n",
    "dcheck_pedestals = vstack(dcheck_pedestals)\n"
   ]
  },
  {
   "cell_type": "markdown",
   "id": "17f1bed3",
   "metadata": {},
   "source": [
    "### Exclude runs with issues in interleaved pedestals"
   ]
  },
  {
   "cell_type": "code",
   "execution_count": null,
   "id": "4b1b1603",
   "metadata": {},
   "outputs": [],
   "source": [
    "ped_ok_mask = np.isfinite(dcheck_runsummary['num_pedestals'])\n",
    "print('Removed runs:', np.array(dcheck_runsummary['runnumber'][~ped_ok_mask]))"
   ]
  },
  {
   "cell_type": "code",
   "execution_count": null,
   "id": "8b02ba18",
   "metadata": {},
   "outputs": [],
   "source": [
    "# Have a look at the runsummary table columns:\n",
    "dcheck_runsummary"
   ]
  },
  {
   "cell_type": "code",
   "execution_count": null,
   "id": "c2890fd2",
   "metadata": {},
   "outputs": [],
   "source": [
    "# Just a function to print out the run numbers that survive a certain set of cuts:\n",
    "\n",
    "def print_runs(table, mask, by_date=False):\n",
    "    print(f\"{mask.sum()} wobble runs for the selected source\")\n",
    "    print(f\"Observation time: {table['elapsed_time'][mask].sum()/3600:.2f} hours\")\n",
    "    print()\n",
    "    print(np.array2string(np.array(table['runnumber'][mask]), separator=', '))\n",
    "    \n",
    "    if by_date:\n",
    "        print()\n",
    "        print()\n",
    "        dates = [datetime.utcfromtimestamp(t-0.5*86400).date() for t in table['time'][mask]]\n",
    "        for i, date in enumerate(np.unique(dates)):\n",
    "            rr = []\n",
    "            for d, run in zip(dates, table['runnumber'][mask]):\n",
    "                if d != date:\n",
    "                    continue\n",
    "                rr.append(run)\n",
    "            print(i+1, \":\", date, \":\", rr)"
   ]
  },
  {
   "cell_type": "markdown",
   "id": "448bd17e",
   "metadata": {},
   "source": [
    "### Find the runs with pointing close to the source of interest:"
   ]
  },
  {
   "cell_type": "code",
   "execution_count": null,
   "id": "d66e359a",
   "metadata": {
    "scrolled": false
   },
   "outputs": [],
   "source": [
    "telescope_pointing = SkyCoord(ra=dcheck_runsummary['mean_ra']*u.deg, dec=dcheck_runsummary['mean_dec']*u.deg)"
   ]
  },
  {
   "cell_type": "code",
   "execution_count": null,
   "id": "29c5a33e",
   "metadata": {},
   "outputs": [],
   "source": [
    "angular_distance = source_coordinates.separation(telescope_pointing)\n",
    "\n",
    "plt.hist(angular_distance.to_value(u.deg), bins=200, range=(0, 1))\n",
    "plt.show()\n",
    "\n",
    "# Select wobble pointings at ~0.4 deg from the source:\n",
    "source_mask = ((angular_distance > 0.35 * u.deg) &\n",
    "               (angular_distance < 0.45 * u.deg))\n",
    "\n",
    "print_runs(dcheck_runsummary, source_mask)"
   ]
  },
  {
   "cell_type": "code",
   "execution_count": null,
   "id": "e9f82f7c",
   "metadata": {},
   "outputs": [],
   "source": [
    "fig = plt.figure(figsize=(15,4))\n",
    "fig.add_subplot(1, 2, 1)\n",
    "plt.hist(np.rad2deg(dcheck_runsummary['mean_azimuth'][source_mask]), bins=30)\n",
    "plt.xlabel('Mean azimuth (deg)')\n",
    "plt.ylabel('Number of runs')\n",
    "fig.add_subplot(1, 2, 2)\n",
    "plt.hist(90-np.rad2deg(dcheck_runsummary['mean_altitude'][source_mask]),\n",
    "         weights=dcheck_runsummary['elapsed_time'][source_mask]/3600,\n",
    "         bins=30)\n",
    "plt.xlabel('Mean zenith (deg)')\n",
    "plt.ylabel('Number of runs')\n",
    "plt.show()"
   ]
  },
  {
   "cell_type": "markdown",
   "id": "4d435ae3",
   "metadata": {},
   "source": [
    "### Selection of zenith angle range\n",
    "Define here the desired zenith angle range, e.g. for selecting runs that can be analyzed with an MC set with a given pointing"
   ]
  },
  {
   "cell_type": "code",
   "execution_count": null,
   "id": "617dc170",
   "metadata": {},
   "outputs": [],
   "source": [
    "min_zenith = 0\n",
    "max_zenith = 35 # degrees\n",
    "zenith_mask =  ((90 - np.rad2deg(dcheck_runsummary['min_altitude']) < max_zenith) &\n",
    "                (90 - np.rad2deg(dcheck_runsummary['min_altitude']) > min_zenith))\n",
    "\n",
    "print(f'With {min_zenith} < zenith < {max_zenith} degrees:')\n"
   ]
  },
  {
   "cell_type": "code",
   "execution_count": null,
   "id": "40cf6c15",
   "metadata": {},
   "outputs": [],
   "source": [
    "print_runs(dcheck_runsummary, source_mask & zenith_mask & ped_ok_mask, by_date=True)"
   ]
  },
  {
   "cell_type": "code",
   "execution_count": null,
   "id": "91b9bf41",
   "metadata": {},
   "outputs": [],
   "source": [
    "utctime = np.array([datetime.utcfromtimestamp(x) for x in dcheck_runsummary['time']])"
   ]
  },
  {
   "cell_type": "markdown",
   "id": "fa75c232",
   "metadata": {},
   "source": [
    "### Check sun position\n",
    "In case you want e.g. to exclude twilight data"
   ]
  },
  {
   "cell_type": "code",
   "execution_count": null,
   "id": "0857256e",
   "metadata": {
    "scrolled": true
   },
   "outputs": [],
   "source": [
    "mask = source_mask & zenith_mask & ped_ok_mask\n",
    "\n",
    "plt.figure(figsize=(15,4))\n",
    "\n",
    "sun_gcrs = get_sun(Time(utctime))\n",
    "altaz = AltAz(obstime=utctime, location=location)\n",
    "sun_altaz = sun_gcrs.transform_to(altaz)\n",
    "\n",
    "plt.scatter(utctime[mask], sun_altaz.alt[mask])\n",
    "plt.grid()\n",
    "plt.ylabel('Sun altitude (deg)')\n",
    "plt.show()"
   ]
  },
  {
   "cell_type": "code",
   "execution_count": null,
   "id": "7ed05a41",
   "metadata": {},
   "outputs": [],
   "source": [
    "mask = source_mask & zenith_mask & ped_ok_mask\n",
    "plt.figure(figsize=(15,4))\n",
    "plt.scatter(sun_altaz.alt[mask], dcheck_runsummary['ped_charge_stddev'][mask], s=8)\n",
    "plt.ylabel('Pedestal charge std dev (p.e.)')\n",
    "plt.xlabel('Sun altitude (deg)')\n",
    "plt.grid()\n",
    "plt.show()"
   ]
  },
  {
   "cell_type": "markdown",
   "id": "c26c1bba",
   "metadata": {},
   "source": [
    "In this case the sun is always well below horizon, there is no correlation with the camera-averaged pedestal charge std dev"
   ]
  },
  {
   "cell_type": "markdown",
   "id": "0ae9792f",
   "metadata": {},
   "source": [
    "### Check moon position"
   ]
  },
  {
   "cell_type": "code",
   "execution_count": null,
   "id": "58c7ea17",
   "metadata": {
    "scrolled": true
   },
   "outputs": [],
   "source": [
    "mask = source_mask & zenith_mask & ped_ok_mask\n",
    "\n",
    "plt.figure(figsize=(15,4))\n",
    "\n",
    "moon_gcrs = get_moon(Time(utctime), location=location)\n",
    "altaz = AltAz(obstime=utctime, location=location)\n",
    "moon_altaz = moon_gcrs.transform_to(altaz)\n",
    "\n",
    "plt.scatter(utctime[mask], moon_altaz.alt[mask])\n",
    "plt.grid()\n",
    "plt.show()\n",
    "\n",
    "# Moon below the horizon:\n",
    "no_moon = moon_altaz.alt.to_value(u.deg) < 0"
   ]
  },
  {
   "cell_type": "code",
   "execution_count": null,
   "id": "262e7a72",
   "metadata": {},
   "outputs": [],
   "source": [
    "# Fraction of illuminated moon\n",
    "moon_fraction = moon_illumination(Time(utctime))"
   ]
  },
  {
   "cell_type": "code",
   "execution_count": null,
   "id": "2e1b0b58",
   "metadata": {},
   "outputs": [],
   "source": [
    "plt.figure(figsize=(15,4))\n",
    "\n",
    "mask = source_mask & zenith_mask & ped_ok_mask & no_moon\n",
    "plt.scatter(moon_altaz.alt[mask], dcheck_runsummary['ped_charge_stddev'][mask], s=8, label='Moon below horizon')\n",
    "\n",
    "moon_fraction_limit = 0.2\n",
    "mask = source_mask & zenith_mask & ped_ok_mask & ~no_moon & (moon_fraction < moon_fraction_limit)\n",
    "plt.scatter(moon_altaz.alt[mask], \n",
    "            dcheck_runsummary['ped_charge_stddev'][mask], s=8, \n",
    "            label=f'Moon above horizon, <{int(moon_fraction_limit*100)}% illuminated')\n",
    "\n",
    "\n",
    "mask = source_mask & zenith_mask & ped_ok_mask & ~no_moon & (moon_fraction >= moon_fraction_limit)\n",
    "plt.scatter(moon_altaz.alt[mask], \n",
    "            dcheck_runsummary['ped_charge_stddev'][mask], s=8, \n",
    "            label=f'Moon above horizon, $\\geq$ {int(moon_fraction_limit*100)}% illuminated')\n",
    "\n",
    "plt.xlabel('Moon altitude (deg)')\n",
    "plt.ylabel('Pedestal charge std dev (p.e.)')\n",
    "plt.legend(loc='upper left')\n",
    "plt.grid()\n",
    "plt.show()\n",
    "\n",
    "plt.figure(figsize=(15,4))\n",
    "mask = source_mask & zenith_mask & ped_ok_mask & no_moon\n",
    "plt.scatter(dcheck_runsummary['runnumber'][mask], dcheck_runsummary['ped_charge_stddev'][mask], \n",
    "            label='Moon below horizon', s=5)\n",
    "mask = source_mask & zenith_mask & ped_ok_mask & ~no_moon\n",
    "plt.scatter(dcheck_runsummary['runnumber'][mask], dcheck_runsummary['ped_charge_stddev'][mask], \n",
    "            label='Moon above horizon', s=5)\n",
    "plt.grid()\n",
    "plt.legend()\n",
    "plt.xlabel('Run number')\n",
    "plt.ylabel('Pedestal charge std dev (p.e.)')\n",
    "plt.show()"
   ]
  },
  {
   "cell_type": "markdown",
   "id": "29390157",
   "metadata": {},
   "source": [
    "### A cut in the camera-averaged pedestal charge standard deviation seems adequate to remove both moon runs and high-NSB runs. \n",
    "Note that the specific valye for this cut will depend on the observed source (e.g. the FOV around Crab is brighter than for typical extragalactic sources)"
   ]
  },
  {
   "cell_type": "code",
   "execution_count": null,
   "id": "30483b73",
   "metadata": {},
   "outputs": [],
   "source": [
    "max_ped_std = 2 # p.e.\n",
    "ped_std_cut = dcheck_runsummary['ped_charge_stddev'] < max_ped_std\n",
    "\n",
    "print_runs(dcheck_runsummary, source_mask & zenith_mask & ped_ok_mask & ped_std_cut)"
   ]
  },
  {
   "cell_type": "markdown",
   "id": "2f9f62ba",
   "metadata": {},
   "source": [
    "### Check rate of cosmics\n",
    "To remove too-low rate runs that probably indicate non-optimal weather or telescope issues"
   ]
  },
  {
   "cell_type": "code",
   "execution_count": null,
   "id": "5c2ec72c",
   "metadata": {
    "scrolled": false
   },
   "outputs": [],
   "source": [
    "mask = source_mask & zenith_mask & ped_ok_mask & ped_std_cut\n",
    "\n",
    "rate_cosmics = dcheck_runsummary['num_cosmics'] / dcheck_runsummary['elapsed_time']\n",
    "plt.figure(figsize=(15,4))\n",
    "plt.scatter(90 - np.rad2deg(dcheck_runsummary['mean_altitude'][mask]), rate_cosmics[mask])\n",
    "plt.ylabel('Cosmics rate (/s)')\n",
    "plt.xlabel('Zenith angle (deg)')\n",
    "plt.ylim(0, 15000)\n",
    "plt.grid()\n",
    "plt.show()"
   ]
  },
  {
   "cell_type": "code",
   "execution_count": null,
   "id": "c15895cf",
   "metadata": {},
   "outputs": [],
   "source": [
    "# Now the cosmics rate vs. run number\n",
    "\n",
    "mask = source_mask & zenith_mask & ped_ok_mask & ped_std_cut\n",
    "\n",
    "rate_cosmics = dcheck_runsummary['num_cosmics'] / dcheck_runsummary['elapsed_time']\n",
    "plt.figure(figsize=(15,4))\n",
    "plt.scatter(dcheck_runsummary['runnumber'][mask], rate_cosmics[mask])\n",
    "plt.ylabel('Cosmics rate (/s)')\n",
    "plt.xlabel('Run number')\n",
    "plt.grid()\n",
    "plt.show()"
   ]
  },
  {
   "cell_type": "markdown",
   "id": "3a9e9d86",
   "metadata": {},
   "source": [
    "### We remove runs with too low cosmics rates. \n",
    "The specific value of the cut will be sample-dependent, and zenith-dependent... the value we use here of 3000 (evts/s) is somewhat arbitrary"
   ]
  },
  {
   "cell_type": "code",
   "execution_count": null,
   "id": "baf67cce",
   "metadata": {
    "scrolled": false
   },
   "outputs": [],
   "source": [
    "rate_mask = rate_cosmics > 3000\n",
    "print_runs(dcheck_runsummary, source_mask & zenith_mask & ped_ok_mask & ped_std_cut & rate_mask)"
   ]
  },
  {
   "cell_type": "code",
   "execution_count": null,
   "id": "d1590242",
   "metadata": {},
   "outputs": [],
   "source": [
    "# Let's see that expanded (now x-axis is just the order of each run in the list of survivors)\n",
    "\n",
    "mask = source_mask & zenith_mask & ped_ok_mask & ped_std_cut & rate_mask\n",
    "plt.figure(figsize=(15,4))\n",
    "plt.plot(rate_cosmics[mask], 'o')\n",
    "plt.ylim(0,10000)\n",
    "plt.ylabel('Cosmics rate (/s)')\n",
    "plt.xlabel('Run index in list')\n",
    "plt.grid()\n",
    "plt.show()"
   ]
  },
  {
   "cell_type": "markdown",
   "id": "0d4560ed",
   "metadata": {},
   "source": [
    "This is not very stable, but hopefully most of the differences will be accounted for near-threshold events and the data will be usable for spectral calculations well above the trigger threshold"
   ]
  },
  {
   "cell_type": "markdown",
   "id": "b4706e78",
   "metadata": {},
   "source": [
    "### Check mean number of pixels around stars\n",
    "Note that the pedestal charge std dev in the DL1 check is calculated excluding those pixels, hence there is no correlation"
   ]
  },
  {
   "cell_type": "code",
   "execution_count": null,
   "id": "d422581f",
   "metadata": {},
   "outputs": [],
   "source": [
    "mask = source_mask & zenith_mask & ped_ok_mask & ped_std_cut & rate_mask\n",
    "\n",
    "plt.figure(figsize=(15,4))\n",
    "plt.plot(dcheck_runsummary['mean_number_of_pixels_nearby_stars'][mask], 'o')\n",
    "plt.ylabel('Mean number of pixels near stars')\n",
    "plt.xlabel('Run index in list')\n",
    "plt.grid()\n",
    "plt.show()\n"
   ]
  },
  {
   "cell_type": "markdown",
   "id": "1c2dd19d",
   "metadata": {},
   "source": [
    "There are different \"populations\" because of different wobble pointings"
   ]
  },
  {
   "cell_type": "markdown",
   "id": "98defe50",
   "metadata": {},
   "source": [
    "### Now check the average pixel rate of >10 and >30 pe pulses in cosmics\n",
    "Note that also star-affected pixels were excluded in the DL1 check calculation of the average pixel rates. Low rates may indicate poor weather or telescope problems"
   ]
  },
  {
   "cell_type": "code",
   "execution_count": null,
   "id": "e31acec4",
   "metadata": {
    "scrolled": false
   },
   "outputs": [],
   "source": [
    "for npe in [10, 30]:\n",
    "    rate_cosmics_pulses = (dcheck_runsummary[f'cosmics_fraction_pulses_above{npe}'] * \n",
    "                           dcheck_runsummary['num_cosmics'] / dcheck_runsummary['elapsed_time'])\n",
    "\n",
    "    mask = source_mask & zenith_mask & ped_ok_mask & ped_std_cut & rate_mask\n",
    "    plt.figure(figsize=(15,4))\n",
    "    plt.plot(rate_cosmics_pulses[mask], 'o', label=(f'pulses of > {npe} p.e.'))\n",
    "\n",
    "\n",
    "    plt.xlabel('Run index in list')\n",
    "    plt.ylabel('Rate (/s)')\n",
    "    plt.ylim(0, 1.2*np.max(rate_cosmics_pulses[mask]))\n",
    "    plt.legend()\n",
    "    plt.grid()\n",
    "    plt.show()"
   ]
  },
  {
   "cell_type": "markdown",
   "id": "c361e2c4",
   "metadata": {},
   "source": [
    "The high rate spikes might be due to car flashes, MAGIC LIDAR shots, satellites... I could not investigate it yet. If those are the reasons, the shower data might still be perfectly ok."
   ]
  },
  {
   "cell_type": "markdown",
   "id": "2ce1edea",
   "metadata": {},
   "source": [
    "### Define minimum values for those rates\n",
    "To remove outliers in the low-rate side"
   ]
  },
  {
   "cell_type": "code",
   "execution_count": null,
   "id": "068fadd0",
   "metadata": {},
   "outputs": [],
   "source": [
    "rate10_mask = (dcheck_runsummary[f'cosmics_fraction_pulses_above10'] * \n",
    "               dcheck_runsummary['num_cosmics'] / \n",
    "               dcheck_runsummary['elapsed_time']) > 25\n",
    "rate30_mask = (dcheck_runsummary[f'cosmics_fraction_pulses_above30'] * \n",
    "               dcheck_runsummary['num_cosmics'] / \n",
    "               dcheck_runsummary['elapsed_time']) > 4.5\n",
    "\n",
    "pix_rate_mask = rate10_mask & rate30_mask"
   ]
  },
  {
   "cell_type": "code",
   "execution_count": null,
   "id": "452c3dec",
   "metadata": {},
   "outputs": [],
   "source": [
    "# The cuts on the pixel rates of pulses above 10 and 30 pe remove for example 6 out of 9 runs of the 20201119 night,\n",
    "# for which the Logbook reports passing clouds, low transmission and varying trigger rates.\n",
    "\n",
    "\n",
    "print_runs(dcheck_runsummary, source_mask & zenith_mask & ped_ok_mask & ped_std_cut & rate_mask, by_date=True)\n",
    "print()\n",
    "print(\"**********************\")\n",
    "print()\n",
    "print_runs(dcheck_runsummary, source_mask & zenith_mask & ped_ok_mask & ped_std_cut & \n",
    "           rate_mask & pix_rate_mask, by_date=True)"
   ]
  },
  {
   "cell_type": "markdown",
   "id": "e4c70e1d",
   "metadata": {},
   "source": [
    "### Check the rate of interleaved events \n",
    "It should be ~100 Hz, or ~50 Hz for the oldest LST1 data. The numbers are not exactly 50 and 100 because of dead time"
   ]
  },
  {
   "cell_type": "code",
   "execution_count": null,
   "id": "110dff10",
   "metadata": {
    "scrolled": false
   },
   "outputs": [],
   "source": [
    "mask = source_mask & zenith_mask & ped_ok_mask & ped_std_cut & rate_mask & pix_rate_mask\n",
    "\n",
    "rate_flatfield = dcheck_runsummary['num_flatfield'] / dcheck_runsummary['elapsed_time']\n",
    "rate_pedestals = dcheck_runsummary['num_pedestals'] / dcheck_runsummary['elapsed_time']\n",
    "plt.figure(figsize=(15,4))\n",
    "plt.scatter(dcheck_runsummary['runnumber'][mask], rate_flatfield[mask], label='flatfield')\n",
    "plt.scatter(dcheck_runsummary['runnumber'][mask], rate_pedestals[mask], s=5, label='pedestals')\n",
    "plt.ylim(0, 130)\n",
    "plt.xlabel('Run number')\n",
    "plt.ylabel('Interleaved rate (Hz)')\n",
    "plt.legend()\n",
    "plt.grid()\n",
    "plt.show()"
   ]
  },
  {
   "cell_type": "markdown",
   "id": "0ac1ceeb",
   "metadata": {},
   "source": [
    "### Muon ring rate and intensity vs. zenith angle:"
   ]
  },
  {
   "cell_type": "code",
   "execution_count": null,
   "id": "b24599f4",
   "metadata": {},
   "outputs": [],
   "source": [
    "mask = source_mask & zenith_mask & ped_ok_mask & ped_std_cut & rate_mask & pix_rate_mask\n",
    "\n",
    "rate_muons = dcheck_runsummary['num_contained_mu_rings'] / dcheck_runsummary['elapsed_time']\n",
    "plt.figure(figsize=(15,4))\n",
    "plt.scatter(90 - np.rad2deg(dcheck_runsummary['mean_altitude'][mask]), rate_muons[mask])\n",
    "plt.ylim(0, 5)\n",
    "plt.xlabel('Zenith angle (deg)')\n",
    "plt.ylabel('Rate of contained muon rings (/s)')\n",
    "plt.grid()\n",
    "plt.show()\n",
    "\n",
    "plt.figure(figsize=(15,4))\n",
    "plt.scatter(90 - np.rad2deg(dcheck_runsummary['mean_altitude'][mask]), dcheck_runsummary['mu_intensity_mean'][mask])\n",
    "plt.ylim(0,2500)\n",
    "plt.xlabel('Zenith angle (deg)')\n",
    "plt.ylabel('Average muon ring intensity (p.e.)')\n",
    "plt.grid()\n",
    "plt.show()"
   ]
  },
  {
   "cell_type": "markdown",
   "id": "a9138409",
   "metadata": {},
   "source": [
    "### Muon ring rate and intensity vs. run & date:"
   ]
  },
  {
   "cell_type": "code",
   "execution_count": null,
   "id": "fb357409",
   "metadata": {
    "scrolled": false
   },
   "outputs": [],
   "source": [
    "mask = source_mask & zenith_mask & ped_ok_mask & ped_std_cut & rate_mask & pix_rate_mask\n",
    "\n",
    "plt.figure(figsize=(15,4))\n",
    "plt.plot(dcheck_runsummary['mu_intensity_mean'][mask], 'o')\n",
    "plt.ylim(0,2500)\n",
    "plt.xlabel('Run index in list')\n",
    "plt.ylabel('Average muon ring intensity (p.e.)')\n",
    "plt.ylim(1500, 2500)\n",
    "plt.grid()\n",
    "plt.show()\n",
    "\n",
    "\n",
    "plt.figure(figsize=(15,4))\n",
    "plt.scatter(utctime[mask], dcheck_runsummary['mu_intensity_mean'][mask], s=8)\n",
    "plt.ylim(0,2500)\n",
    "plt.ylabel('Average muon ring intensity (p.e.)')\n",
    "plt.ylim(1500, 2500)\n",
    "plt.grid()\n",
    "plt.show()"
   ]
  },
  {
   "cell_type": "markdown",
   "id": "b1d4702d",
   "metadata": {},
   "source": [
    "Jump up in muon intensity between February and March 2021 probably related to the recovery of group 14 of mirrors:\n",
    "https://www.lst1.iac.es/elog/LST+commissioning/1515\n",
    "(although the increase in intensity is ~2.5%  and group 14 should be 9 mirrors out of 198, i.e. 4.8%)"
   ]
  },
  {
   "cell_type": "code",
   "execution_count": null,
   "id": "9b86f6df",
   "metadata": {},
   "outputs": [],
   "source": [
    "mask = source_mask & zenith_mask & ped_ok_mask & ped_std_cut & rate_mask & pix_rate_mask\n",
    "\n",
    "plt.figure(figsize=(15,4))\n",
    "plt.plot(dcheck_runsummary['mu_width_mean'][mask], 'o')\n",
    "plt.xlabel('Run index in list')\n",
    "plt.ylabel('Average muon ring width (deg)')\n",
    "plt.ylim(0, 0.1)\n",
    "plt.grid()\n",
    "plt.show()\n",
    "\n",
    "plt.figure(figsize=(15,4))\n",
    "plt.plot(dcheck_runsummary['mu_width_stddev'][mask], 'o')\n",
    "plt.xlabel('Run index in list')\n",
    "plt.ylabel('Muon ring width std dev (deg)')\n",
    "plt.ylim(0, 0.03)\n",
    "plt.grid()\n",
    "plt.show()"
   ]
  },
  {
   "cell_type": "markdown",
   "id": "507707f4",
   "metadata": {},
   "source": [
    "### Time resolution (from flatfield events)"
   ]
  },
  {
   "cell_type": "code",
   "execution_count": null,
   "id": "f1d49379",
   "metadata": {
    "scrolled": false
   },
   "outputs": [],
   "source": [
    "mask = source_mask & zenith_mask & ped_ok_mask & ped_std_cut & rate_mask & pix_rate_mask\n",
    "\n",
    "plt.figure(figsize=(15,8))\n",
    "plt.scatter(dcheck_runsummary['runnumber'][mask], \n",
    "            dcheck_runsummary['ff_rel_time_stddev'][mask])\n",
    "plt.xlabel('Run number')\n",
    "plt.ylabel('Camera-averaged std dev of pixel time (relative to rest of camera) in FF events')\n",
    "plt.ylim(0, 0.6)\n",
    "plt.grid()\n",
    "plt.show()\n"
   ]
  },
  {
   "cell_type": "markdown",
   "id": "fa277ab1",
   "metadata": {},
   "source": [
    "Only a few runs have a larger value that the typical ~0.4 ns, we don't remove them since the value is still pretty good in absolute terms."
   ]
  },
  {
   "cell_type": "markdown",
   "id": "698f6cb4",
   "metadata": {},
   "source": [
    "### Mean pixel charge in FF events"
   ]
  },
  {
   "cell_type": "code",
   "execution_count": null,
   "id": "3dcf1b92",
   "metadata": {
    "scrolled": false
   },
   "outputs": [],
   "source": [
    "mask = source_mask & zenith_mask & ped_ok_mask & ped_std_cut & rate_mask & pix_rate_mask\n",
    "plt.figure(figsize=(15,4))\n",
    "plt.scatter(dcheck_runsummary['runnumber'][mask], dcheck_runsummary['ff_charge_mean'][mask])\n",
    "plt.grid()\n",
    "plt.ylim(0, 100)\n",
    "plt.show()"
   ]
  },
  {
   "cell_type": "markdown",
   "id": "9b001b59",
   "metadata": {},
   "source": [
    "No large deviations, no reason to remove any runs"
   ]
  },
  {
   "cell_type": "markdown",
   "id": "72228d4e",
   "metadata": {},
   "source": [
    "### Final list of selected runs by date:"
   ]
  },
  {
   "cell_type": "code",
   "execution_count": null,
   "id": "15c38fce",
   "metadata": {},
   "outputs": [],
   "source": [
    "mask = source_mask & zenith_mask & ped_ok_mask & ped_std_cut & rate_mask & pix_rate_mask\n",
    "print_runs(dcheck_runsummary, mask, by_date=True)\n"
   ]
  },
  {
   "cell_type": "markdown",
   "id": "4593de59",
   "metadata": {},
   "source": [
    "### Additional info: example of  how to look into subrun-wise info.  \n",
    "Check variation of a subrun-wise calculated quantity within a run (using table dcheck_cosmics):"
   ]
  },
  {
   "cell_type": "code",
   "execution_count": null,
   "id": "86490be2",
   "metadata": {},
   "outputs": [],
   "source": [
    "mask = source_mask & zenith_mask & ped_ok_mask & ped_std_cut & rate_mask & pix_rate_mask\n",
    "run_list = np.array(dcheck_runsummary['runnumber'][mask])\n",
    "\n",
    "# Cut to pick the so-far selected runs (with \"mask\")in the subrun-wise tables, like dcheck_cosmics:\n",
    "runselection = np.array([r in run_list for r in dcheck_cosmics['runnumber']])"
   ]
  },
  {
   "cell_type": "code",
   "execution_count": null,
   "id": "6e358195",
   "metadata": {},
   "outputs": [],
   "source": [
    "# Plot the subrun-wise values:\n",
    "\n",
    "plt.figure(figsize=(15,4))\n",
    "\n",
    "for npe in [10, 30]:\n",
    "\n",
    "    rate_cosmics_pulses = (dcheck_cosmics[f'fraction_pulses_above{npe}'] * \n",
    "                           dcheck_cosmics['events'] / dcheck_cosmics['elapsed_time'])\n",
    "    plt.plot(rate_cosmics_pulses[runselection], 'o', markersize=1,\n",
    "             label=(f'pulses of > {npe} p.e.'))\n",
    "\n",
    "plt.yscale('log')\n",
    "plt.xlabel('Sub-run index in list')\n",
    "plt.ylabel('Rate (/s)')\n",
    "\n",
    "plt.legend()\n",
    "plt.grid()\n",
    "plt.show()\n"
   ]
  },
  {
   "cell_type": "code",
   "execution_count": null,
   "id": "9301caee",
   "metadata": {
    "scrolled": false
   },
   "outputs": [],
   "source": [
    "# Calculate and plot the run-wise standard deviation of the pixel rates \n",
    "std_npe = []\n",
    "\n",
    "for npe, maxy in zip([10, 30], [10, 1]):\n",
    "\n",
    "    dummy = []\n",
    "    \n",
    "    rate_cosmics_pulses = (dcheck_cosmics[f'fraction_pulses_above{npe}'] * \n",
    "                           dcheck_cosmics['events'] / dcheck_cosmics['elapsed_time'])\n",
    "\n",
    "    for run in run_list:\n",
    "        thisrun = dcheck_cosmics['runnumber'] == run\n",
    "        dummy.append(np.std(rate_cosmics_pulses[thisrun]))\n",
    "    \n",
    "    dummy = np.array(dummy)\n",
    "    std_npe.append(dummy)\n",
    "\n",
    "    plt.figure(figsize=(15,4))\n",
    "    plt.plot(dummy, 'o')\n",
    "    plt.ylim(0, maxy)\n",
    "    plt.grid()\n",
    "    plt.xlabel('Run index in list')\n",
    "    plt.ylabel(f'std dev of rate of pulses of > {npe} p.e.')\n",
    "    plt.show()"
   ]
  },
  {
   "cell_type": "code",
   "execution_count": null,
   "id": "4089890f",
   "metadata": {},
   "outputs": [],
   "source": [
    "# We might a cut of < 0.2  on the std dev of the rate of >30 pulses\n",
    "# Perhaps this anomaly is produced by car flashes, or the MAGIC LIDAR...\n",
    "\n",
    "# Create a mask that can be applied to the dcheck_runsummary table:\n",
    "\n",
    "max_rate30_std = 0.2\n",
    "\n",
    "pulse30_std_cut = np.array(len(dcheck_runsummary)*[True])\n",
    "\n",
    "for i, run in enumerate(run_list):\n",
    "    if std_npe[1][i] < max_rate30_std:\n",
    "        continue    \n",
    "    pulse30_std_cut[dcheck_runsummary['runnumber']==run] = False\n"
   ]
  }
 ],
 "metadata": {
  "kernelspec": {
   "display_name": "Python 3 (ipykernel)",
   "language": "python",
   "name": "python3"
  },
  "language_info": {
   "codemirror_mode": {
    "name": "ipython",
    "version": 3
   },
   "file_extension": ".py",
   "mimetype": "text/x-python",
   "name": "python",
   "nbconvert_exporter": "python",
   "pygments_lexer": "ipython3",
   "version": "3.8.12"
  }
 },
 "nbformat": 4,
 "nbformat_minor": 5
}
