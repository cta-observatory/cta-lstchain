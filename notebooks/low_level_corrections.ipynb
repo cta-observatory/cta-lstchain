{
 "cells": [
  {
   "cell_type": "code",
   "execution_count": null,
   "metadata": {},
   "outputs": [],
   "source": [
    "import matplotlib.pyplot as plt\n",
    "import numpy as np\n",
    "\n",
    "from lstchain.io.lsteventsource import LSTEventSource\n",
    "from lstchain.calib.camera.r0 import LSTR0Corrections\n",
    "\n",
    "plt.rcParams['font.size'] = 18"
   ]
  },
  {
   "cell_type": "code",
   "execution_count": null,
   "metadata": {
    "scrolled": true
   },
   "outputs": [],
   "source": [
    "# Give path to real LST data\n",
    "reader = LSTEventSource(input_url=\"/media/pawel1/ADATA HD330/20190215/LST-1.*.Run00097.0001.fits.fz\",\n",
    "                        max_events=30)\n",
    "\n",
    "# Give path to pedestal file\n",
    "lst_r0 = LSTR0Corrections(pedestal_path=\n",
    "                          \"/home/pawel1/Pulpit/Astrophysics/CTA/cta-lstchain-extra/calib/pedestal_run97.fits\", offset=300)\n",
    "\n",
    "t = np.linspace(2, 37, 36)\n",
    "\n",
    "for ev in reader:\n",
    "    plt.figure(figsize=(12, 7))\n",
    "    plt.step(t,  ev.r0.tel[0].waveform[0, 7, 2:38], color=\"blue\", label=\"raw waveform\")\n",
    "    \n",
    "    lst_r0.subtract_pedestal(ev)\n",
    "    \n",
    "    plt.step(t,  ev.r0.tel[0].waveform[0, 7, 2:38], color=\"red\", label=\"after pedestal substraction \")\n",
    "    \n",
    "    lst_r0.time_lapse_corr(ev)\n",
    "    lst_r0.interpolate_spikes(ev)\n",
    "    \n",
    "    plt.step(t,  ev.r0.tel[0].waveform[0, 7, 2:38], color=\"green\", label=\"after pedestal substraction + dt corr + interpolate spikes\")\n",
    "    \n",
    "    plt.xlabel(\"time sample [ns]\")\n",
    "    plt.ylabel(\"counts [ADC]\")\n",
    "    plt.legend()\n",
    "    plt.ylim([150, 500])\n",
    "    plt.show()"
   ]
  },
  {
   "cell_type": "code",
   "execution_count": null,
   "metadata": {},
   "outputs": [],
   "source": []
  }
 ],
 "metadata": {
  "kernelspec": {
   "display_name": "Python 3",
   "language": "python",
   "name": "python3"
  },
  "language_info": {
   "codemirror_mode": {
    "name": "ipython",
    "version": 3
   },
   "file_extension": ".py",
   "mimetype": "text/x-python",
   "name": "python",
   "nbconvert_exporter": "python",
   "pygments_lexer": "ipython3",
   "version": "3.6.4"
  }
 },
 "nbformat": 4,
 "nbformat_minor": 2
}
