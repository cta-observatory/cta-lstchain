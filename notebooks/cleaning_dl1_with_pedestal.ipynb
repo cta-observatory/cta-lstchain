{
 "cells": [
  {
   "cell_type": "markdown",
   "metadata": {},
   "source": [
    "# Cleaning DL1 using pedestal"
   ]
  },
  {
   "cell_type": "code",
   "execution_count": null,
   "metadata": {},
   "outputs": [],
   "source": [
    "%load_ext autoreload\n",
    "%autoreload 2\n",
    "\n",
    "import matplotlib.pyplot as plt\n",
    "import numpy as np\n",
    "import pandas as pd\n",
    "import tables\n",
    "\n",
    "from lstchain.io.io import dl1_params_lstcam_key\n",
    "\n",
    "from ctapipe.instrument import CameraGeometry\n",
    "from ctapipe.visualization import CameraDisplay\n",
    "\n",
    "from ctapipe.image import tailcuts_clean\n",
    "from lstchain.calib.camera.pixel_threshold_estimation  import get_threshold_from_dl1_file\n",
    "\n",
    "geom = CameraGeometry.from_name('LSTCam-002')"
   ]
  },
  {
   "cell_type": "code",
   "execution_count": null,
   "metadata": {},
   "outputs": [],
   "source": [
    "def get_pedestal_images(dl1_filename):\n",
    "    trigger_source='ucts_trigger_type'\n",
    "    f = tables.open_file(dl1_filename)\n",
    "    parameters = pd.read_hdf(dl1_filename, key=dl1_params_lstcam_key)\n",
    "    image_table = f.root.dl1.event.telescope.image.LST_LSTCam\n",
    "    params_pedestal_mask = (parameters[trigger_source] == 32)\n",
    "    ped_indices = np.array(parameters['event_id'][params_pedestal_mask])\n",
    "    pedestal_mask = (parameters[trigger_source] == 32)\n",
    "    ped_image =  image_table.col('image')[pedestal_mask]\n",
    "    f.close()\n",
    "    return ped_image\n",
    "\n",
    "def make_image_plot(img, img_cleaned):\n",
    "    fig, ax = plt.subplots(1, 2, figsize=(10, 5))\n",
    "    disp0 = CameraDisplay(geom, ax=ax[0])\n",
    "    disp0.image = img\n",
    "    disp0.add_colorbar(ax=ax[0], label=\"signal [p.e.]\")\n",
    "    disp0.cmap = 'gnuplot2'\n",
    "    ax[0].set_title(\"Dl1 image\", fontsize=20)\n",
    "    ax[0].set_yticklabels([])\n",
    "    ax[0].set_xticklabels([])\n",
    "    ax[0].set_xlabel(\"\")\n",
    "    ax[0].set_ylabel(\"\")\n",
    "    \n",
    "    disp1 = CameraDisplay(geom, ax=ax[1])\n",
    "    disp1.image = img_cleaned\n",
    "    disp1.add_colorbar(ax=ax[1], label=\"signal [p.e.]\")\n",
    "    disp1.cmap = 'gnuplot2'\n",
    "    ax[1].set_title(\"Dl1 cleaned image\", fontsize=20)\n",
    "    ax[1].set_yticklabels([])\n",
    "    ax[1].set_xticklabels([])\n",
    "    ax[1].set_xlabel(\"\")\n",
    "    ax[1].set_ylabel(\"\")"
   ]
  },
  {
   "cell_type": "code",
   "execution_count": null,
   "metadata": {},
   "outputs": [],
   "source": [
    "path_3004 =  \"/media/pawel1/ADATA HD330/20201122/DL1/v0.6.3_v05/dl1_LST-1.Run03004.0000.h5\"\n",
    "path_to_dl1_data = path_3004\n",
    "ped_images = get_pedestal_images(path_to_dl1_data)"
   ]
  },
  {
   "cell_type": "code",
   "execution_count": null,
   "metadata": {
    "scrolled": true
   },
   "outputs": [],
   "source": [
    "pic_th = 8\n",
    "bound_th = 4\n",
    "geom = CameraGeometry.from_name('LSTCam-002')\n",
    "for i, image in enumerate(ped_images[:15]):\n",
    "    print(i)\n",
    "    img = image.copy()\n",
    "    clean = tailcuts_clean(\n",
    "                       geom,\n",
    "                       img,\n",
    "                       picture_thresh=pic_th,\n",
    "                       boundary_thresh=bound_th,\n",
    "                       keep_isolated_pixels=False,\n",
    "                       min_number_picture_neighbors=1,\n",
    "                      )\n",
    "    cleaned = img.copy()\n",
    "    cleaned[~clean] = 0.0\n",
    "    make_image_plot(img, cleaned)\n",
    "    plt.show()"
   ]
  },
  {
   "cell_type": "markdown",
   "metadata": {},
   "source": [
    "## Modified cleaning method: picture threshold calculated with interleaved pedestal\n",
    "* Pedestal calculated using interleaved events.\n",
    "* Modified picture threshold for tailcut cleaning method.\n",
    "* Cleaning the most noisy pixels (for example around the star location), for rest pixels picture threshold doesn't change.\n",
    "\n",
    "Threshold for each pixel is define as: ***threshold = pedestal_bias + sigma***$\\cdot$***pedestal_std*** \n",
    "\n",
    "***sigma - parameter to set***\n",
    "\n",
    "\n",
    "Recommended threshold for cleaning:\n",
    "* galactic source: picture_thresh=8, boundary_thresh=4, sigma=3\n",
    "* extragalactic source: picture_thresh=6, boundary_thresh=3, sigma=2.5"
   ]
  },
  {
   "cell_type": "code",
   "execution_count": null,
   "metadata": {},
   "outputs": [],
   "source": [
    "pic_th = 8\n",
    "bound_th = 4\n",
    "sigma = 3\n",
    "th_ped_interleave = get_threshold_from_dl1_file(path_to_dl1_data, sigma)\n",
    "pedestal_threshhold = th_ped_interleave\n",
    "picture_thresh = np.clip(pedestal_threshhold, pic_th, None)\n",
    "\n",
    "geom = CameraGeometry.from_name('LSTCam-002')\n",
    "for i, image in enumerate(ped_images[:15]):\n",
    "    print(i)\n",
    "    img = image.copy()\n",
    "    clean = tailcuts_clean(\n",
    "                       geom,\n",
    "                       img,\n",
    "                       picture_thresh=picture_thresh,\n",
    "                       boundary_thresh=bound_th,\n",
    "                       keep_isolated_pixels=False,\n",
    "                       min_number_picture_neighbors=1,\n",
    "                      )\n",
    "    cleaned = img.copy()\n",
    "    cleaned[~clean] = 0.0\n",
    "    make_image_plot(img, cleaned)\n",
    "    plt.show()"
   ]
  },
  {
   "cell_type": "markdown",
   "metadata": {},
   "source": [
    "## Threshold signal map"
   ]
  },
  {
   "cell_type": "code",
   "execution_count": null,
   "metadata": {},
   "outputs": [],
   "source": [
    "fig, ax = plt.subplots(figsize=(10, 8))\n",
    "disp0 = CameraDisplay(geom, ax=ax)\n",
    "disp0.image = th_ped_interleave\n",
    "disp0.add_colorbar(ax=ax, label=\"mean + sigma*std [p.e.]\")\n",
    "disp0.cmap = 'gnuplot2'\n",
    "ax.set_title(\"Threshold from pedestal\")"
   ]
  },
  {
   "cell_type": "code",
   "execution_count": null,
   "metadata": {},
   "outputs": [],
   "source": []
  }
 ],
 "metadata": {
  "kernelspec": {
   "display_name": "Python 3",
   "language": "python",
   "name": "python3"
  },
  "language_info": {
   "codemirror_mode": {
    "name": "ipython",
    "version": 3
   },
   "file_extension": ".py",
   "mimetype": "text/x-python",
   "name": "python",
   "nbconvert_exporter": "python",
   "pygments_lexer": "ipython3",
   "version": "3.7.10"
  }
 },
 "nbformat": 4,
 "nbformat_minor": 4
}
