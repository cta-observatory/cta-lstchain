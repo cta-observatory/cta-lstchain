{
 "cells": [
  {
   "cell_type": "code",
   "execution_count": null,
   "metadata": {},
   "outputs": [],
   "source": [
    "%load_ext autoreload\n",
    "%autoreload 2\n",
    "\n",
    "import matplotlib.pyplot as plt\n",
    "import numpy as np\n",
    "\n",
    "from ctapipe_io_lst import LSTEventSource\n",
    "from ctapipe.image.extractor import LocalPeakWindowSum\n",
    "from ctapipe.instrument import CameraGeometry\n",
    "from ctapipe.visualization import CameraDisplay\n",
    "\n",
    "from traitlets.config.loader import Config \n",
    "from lstchain.calib.camera.r0 import LSTR0Corrections\n",
    "\n",
    "from lstchain.calib.camera.time_correction_calculate import TimeCorrectionCalculate \n",
    "from lstchain.calib.camera.pulse_time_correction import PulseTimeCorrection\n",
    "\n",
    "plt.rcParams['font.size'] = 25"
   ]
  },
  {
   "cell_type": "markdown",
   "metadata": {},
   "source": [
    "# Create coefficients to time correction and save to h5py file using camera calibration data"
   ]
  },
  {
   "cell_type": "code",
   "execution_count": null,
   "metadata": {},
   "outputs": [],
   "source": [
    "%%time\n",
    "\n",
    "reader = LSTEventSource(\n",
    "    input_url=\"/media/pawel1/ADATA HD330/20191124/LST-1.1.Run01625.0000.fits.fz\",\n",
    "    max_events=20000)\n",
    "\n",
    "charge_config = Config({\n",
    "    \"LocalPeakWindowSum\":{\n",
    "        \"window_shift\":4,\n",
    "        \"window_width\":11\n",
    "    }\n",
    "})\n",
    "\n",
    "# Here you have to give path, where you want save calibration file\n",
    "timeCorr = TimeCorrectionCalculate(calib_file_path='time_calib_run1625.h5',\n",
    "                                   config=charge_config, \n",
    "                                   subarray=reader.subarray)\n",
    "tel_id = 1\n",
    "config = Config({\n",
    "        \"LSTR0Corrections\": {\n",
    "            \"pedestal_path\": None, # if baseline correction was done in EVB\n",
    "            \"tel_id\": tel_id,\n",
    "            \"r1_sample_start\":3,\n",
    "            \"r1_sample_end\":39\n",
    "        }\n",
    "})\n",
    "\n",
    "lst_r0 = LSTR0Corrections(config=config)\n",
    "\n",
    "for i, ev in enumerate(reader):\n",
    "    if ev.index.event_id%5000 == 0:\n",
    "        print(ev.index.event_id)\n",
    "        \n",
    "    lst_r0.calibrate(ev)                  # Cut in signal to avoid cosmic events      \n",
    "    if ev.r0.tel[tel_id].trigger_type == 1 and np.mean(ev.r1.tel[tel_id].waveform[:, :, :]) > 100:\n",
    "        timeCorr.calibrate_pulse_time(ev)"
   ]
  },
  {
   "cell_type": "code",
   "execution_count": null,
   "metadata": {},
   "outputs": [],
   "source": [
    "timeCorr.finalize()"
   ]
  },
  {
   "cell_type": "markdown",
   "metadata": {},
   "source": [
    "# Apply time correction to camera calibration data"
   ]
  },
  {
   "cell_type": "code",
   "execution_count": null,
   "metadata": {},
   "outputs": [],
   "source": [
    "reader = LSTEventSource(\n",
    "    input_url=\"/media/pawel1/ADATA HD330/20191124/LST-1.1.Run01625.0001.fits.fz\",\n",
    "    max_events=15)\n",
    "\n",
    "pulse_corr = PulseTimeCorrection(calib_file_path='time_calib_run1625.h5')\n",
    "tel_id = 1\n",
    "config = Config({\n",
    "        \"LSTR0Corrections\": {\n",
    "            \"pedestal_path\": None, # if baseline correction was done in EVB\n",
    "            \"tel_id\": tel_id,\n",
    "            \"r1_sample_start\":3,\n",
    "            \"r1_sample_end\":39\n",
    "        }\n",
    "})\n",
    "\n",
    "lst_r0 = LSTR0Corrections(config=config)\n",
    "extractor = LocalPeakWindowSum(window_width=11, window_shift=4, subarray=reader.subarray)\n",
    "gain = 0\n",
    "\n",
    "for i, ev in enumerate(reader):        \n",
    "    lst_r0.calibrate(ev)                  # Cut in signal to avoid cosmic events    \n",
    "    if ev.r0.tel[tel_id].trigger_type == 1 and np.mean(ev.r1.tel[tel_id].waveform[:, :, :]) > 100:\n",
    "        no_gain_selection = np.zeros((2,1855), dtype=np.int8)\n",
    "        charge, pulse = extractor(ev.r1.tel[tel_id].waveform[:, :, :], tel_id, no_gain_selection)\n",
    "        pulse_corr_array = pulse_corr.get_corr_pulse(ev, pulse)\n",
    "        time_fan = pulse_corr.fan_array[0, :, 0]/2 # mean time from correction curve\n",
    "        pulse_corr_array = pulse_corr_array - time_fan\n",
    "        \n",
    "        plt.figure(figsize=(10, 5))\n",
    "        plt.hist(pulse[gain,:], bins=70, range=(15, 35), \n",
    "                 histtype='step', lw=2.5)\n",
    "        plt.hist(pulse_corr_array[gain,:], bins=70, range=(-8, 12), \n",
    "                 histtype='step', lw=2.5, label=\"after corr\")\n",
    "        plt.xlabel(\"Pulse time\")\n",
    "        plt.ylabel(\"Number of pixels\")\n",
    "        plt.legend()\n",
    "        plt.grid(True)\n",
    "        plt.show()\n",
    "        print(\"std before correction {:.2f}\".format(np.std(pulse[gain, :])))\n",
    "        print(\"std after correction {:.2f}\".format(np.std(pulse_corr_array[gain, :])))"
   ]
  },
  {
   "cell_type": "markdown",
   "metadata": {},
   "source": [
    "# Apply time correction to cosmic events "
   ]
  },
  {
   "cell_type": "code",
   "execution_count": null,
   "metadata": {},
   "outputs": [],
   "source": [
    "input_file_1 = \"/media/pawel1/ADATA HD330/20191124/LST-1.1.Run01627.0000.fits.fz\"\n",
    "\n",
    "reader = LSTEventSource(input_url=input_file_1, max_events=15)\n",
    "\n",
    "config_corr = Config({\n",
    "    \"LSTR0Corrections\": {\n",
    "        \"pedestal_path\": None, # For run with baseline correction online\n",
    "        \"offset\":  400,\n",
    "        \"tel_id\": 1,\n",
    "        \"r1_sample_start\":3,\n",
    "        \"r1_sample_end\":39\n",
    "    }\n",
    "})\n",
    "tel_id = 1\n",
    "\n",
    "lst_r0 = LSTR0Corrections(config=config_corr)\n",
    "\n",
    "extractor = LocalPeakWindowSum(window_width=11, window_shift=4, subarray=reader.subarray)\n",
    "gain = 0\n",
    "geom = CameraGeometry.from_name(\"LSTCam\", 2)\n",
    "pulse_corr = PulseTimeCorrection(calib_file_path='time_calib_run1625.h5')\n",
    "\n",
    "for i, ev in enumerate(reader):\n",
    "    lst_r0.calibrate(ev)                       # Cut to see some signal from cosmic events  \n",
    "    if ev.r0.tel[tel_id].trigger_type == 1 and np.sum(ev.r1.tel[tel_id].waveform[gain, :, :]>600) > 10:\n",
    "        \n",
    "        no_gain_selection = np.zeros((2,1855), dtype=np.int8)\n",
    "        charge, pulse_time = extractor(ev.r1.tel[tel_id].waveform[:, :, :], tel_id, no_gain_selection)\n",
    "        pulse_corr_array = pulse_corr.get_corr_pulse(ev, pulse_time)\n",
    "        time_fan = pulse_corr.fan_array[0, :, 0]/2 # mean time from correction curve\n",
    "        pulse_corr_array = pulse_corr_array - time_fan\n",
    "           \n",
    "        fig, ax = plt.subplots(1, 2, figsize=(14, 7))\n",
    "        disp1 = CameraDisplay(geom, ax=ax[0])\n",
    "        disp1.image = pulse_time[gain, :]\n",
    "        disp1.add_colorbar(ax=ax[0], label=\"time [ns]\")\n",
    "        disp1.cmap = 'gnuplot2'\n",
    "        ax[0].set_title(\"Pulse time\")\n",
    "        \n",
    "        disp2 = CameraDisplay(geom, ax=ax[1])\n",
    "        disp2.image = pulse_corr_array[gain, :]\n",
    "        disp2.add_colorbar(ax=ax[1], label=\"time [ns]\")\n",
    "        disp2.cmap = 'gnuplot2'\n",
    "        ax[1].set_title(\"Pulse time correction\")\n",
    "        plt.tight_layout()        \n",
    "        plt.show()"
   ]
  },
  {
   "cell_type": "code",
   "execution_count": null,
   "metadata": {},
   "outputs": [],
   "source": []
  }
 ],
 "metadata": {
  "kernelspec": {
   "display_name": "Python 3",
   "language": "python",
   "name": "python3"
  },
  "language_info": {
   "codemirror_mode": {
    "name": "ipython",
    "version": 3
   },
   "file_extension": ".py",
   "mimetype": "text/x-python",
   "name": "python",
   "nbconvert_exporter": "python",
   "pygments_lexer": "ipython3",
   "version": "3.7.6"
  }
 },
 "nbformat": 4,
 "nbformat_minor": 1
}
