{
 "cells": [
  {
   "cell_type": "code",
   "execution_count": 1,
   "metadata": {},
   "outputs": [],
   "source": [
    "import numpy as np\n",
    "from ctapipe.io import EventSource\n",
    "from ctapipe.io import EventSeeker\n",
    "import matplotlib.pyplot as plt\n",
    "import numpy as np\n",
    "from ctapipe.instrument import CameraGeometry\n",
    "from ctapipe.visualization import CameraDisplay\n",
    "\n",
    "%matplotlib inline\n",
    "plt.rcParams['figure.figsize'] = (16, 9)\n",
    "plt.rcParams['font.size'] = 20\n"
   ]
  },
  {
   "cell_type": "code",
   "execution_count": 2,
   "metadata": {},
   "outputs": [
    {
     "name": "stdout",
     "output_type": "stream",
     "text": [
      "Not an HDF5 file\n"
     ]
    }
   ],
   "source": [
    "source = EventSource(input_url=\"/Users/thomasvuillaume/Work/CTA/Data/LST1/LST-1.1.Run00088.0000.fits.fz\",\n",
    "                      max_events=20)"
   ]
  },
  {
   "cell_type": "code",
   "execution_count": 3,
   "metadata": {},
   "outputs": [],
   "source": [
    "def format_axes(ax):\n",
    "    ax.set_xlabel(\"\")\n",
    "    ax.set_ylabel(\"\")\n",
    "    ax.tick_params(\n",
    "    axis='x',       # changes apply to the x-axis\n",
    "    which='both',      # both major and minor ticks are affected\n",
    "    bottom=False,      # ticks along the bottom edge are off\n",
    "    top=False,         # ticks along the top edge are off\n",
    "    labelbottom=False) # labels along the bottom edge are off\n",
    "    ax.tick_params(\n",
    "    axis='y',       # changes apply to the x-axis\n",
    "    which='both',      # both major and minor ticks are affected\n",
    "    left=False,      # ticks along the bottom edge are off\n",
    "    right=False,         # ticks along the top edge are off\n",
    "    labelleft=False) # labels along the bottom edge are off\n",
    "    \n",
    "    return ax"
   ]
  },
  {
   "cell_type": "code",
   "execution_count": null,
   "metadata": {},
   "outputs": [],
   "source": [
    "geom = CameraGeometry.from_name(\"LSTCam-002\")\n",
    "evt_id = 203 # The id of the selected event\n",
    "\n",
    "for i, ev in enumerate(source):\n",
    "    N_modules = 7*265\n",
    "    print(ev.lst.tel[0].evt.event_id)\n",
    "\n",
    "    #if((ev.lst.tel[0].evt.event_id<19800) or (ev.lst.tel[0].evt.event_id>19860)):\n",
    "    #    continue\n",
    "\n",
    "    std_signal = np.zeros(1855)\n",
    "    for pixel in range(0, N_modules):\n",
    "        std_signal[pixel] = np.max(ev.r0.tel[0].waveform[0, pixel, 2:38])\n",
    "\n",
    "    if(np.size(std_signal[std_signal>1000.]) < 15):\n",
    "        continue  \n",
    "    print(f\"Event {ev.lst.tel[0].evt.event_id}, Max: {np.max(std_signal)} counts\")\n",
    "\n",
    "\n",
    "    #geom = CameraGeometry.from_name(\"LSTCam-002\")\n",
    "    fig, ax = plt.subplots(figsize=(10,10))\n",
    "\n",
    "    #disp0 = CameraDisplay(geom, ax=ax)\n",
    "    disp0 = CameraDisplay(ev.inst.subarray.tels[0].camera, ax=ax)\n",
    "    disp0.cmap = 'viridis'\n",
    "    disp0.image = std_signal\n",
    "    disp0.add_colorbar(ax=ax)\n",
    "\n",
    "    # Establish max and min\n",
    "    sort = np.argsort(std_signal)\n",
    "    min_color = std_signal[sort][7] # There was one cluster off\n",
    "    max_color = std_signal[sort][-2]\n",
    "    max_color = np.max(std_signal)\n",
    "\n",
    "    disp0.set_limits_minmax(min_color, max_color)\n",
    "    ax.set_title(f\"Event {ev.lst.tel[0].evt.event_id}\")\n",
    "    format_axes(ax)\n",
    "#     fig.savefig(\"Images_LST/Event_%i.png\"%(ev.lst.tel[0].evt.event_id))\n",
    "\n",
    "    plt.show()\n",
    "    if(ev.lst.tel[0].evt.event_id==evt_id):\n",
    "        break"
   ]
  },
  {
   "cell_type": "code",
   "execution_count": null,
   "metadata": {},
   "outputs": [],
   "source": [
    "# If you want to make a movie with all the slices\n",
    "\n",
    "max_color = np.max(std_signal)\n",
    "sort = np.argsort(std_signal)\n",
    "min_color = std_signal[sort][7]\n",
    "\n",
    "for cell in range(1,39):\n",
    "    print(\"cell\",cell)\n",
    "    fig, ax = plt.subplots(figsize=(10,10))\n",
    "    disp0 = CameraDisplay(geom, ax=ax)\n",
    "    disp0.cmap = 'viridis'\n",
    "    disp0.add_colorbar(ax=ax)\n",
    "    disp0.image = ev.r0.tel[0].waveform[0,:,cell]\n",
    "    disp0.set_limits_minmax(min_color, max_color)\n",
    "    format_axes(ax)\n",
    "    ax.set_title(f\"Event {ev.lst.tel[0].evt.event_id}, Time {cell} ns\")\n",
    "#     fig.savefig(\"Images_LST/for_gifs/Event_{:02d}_cell{:02d}.png\".format(ev.lst.tel[0].evt.event_id,cell))\n",
    "    #plt.show()"
   ]
  }
 ],
 "metadata": {
  "kernelspec": {
   "display_name": "Python 3",
   "language": "python",
   "name": "python3"
  },
  "language_info": {
   "codemirror_mode": {
    "name": "ipython",
    "version": 3
   },
   "file_extension": ".py",
   "mimetype": "text/x-python",
   "name": "python",
   "nbconvert_exporter": "python",
   "pygments_lexer": "ipython3",
   "version": "3.6.7"
  }
 },
 "nbformat": 4,
 "nbformat_minor": 2
}
