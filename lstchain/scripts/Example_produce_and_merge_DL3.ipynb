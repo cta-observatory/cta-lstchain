{
 "cells": [
  {
   "cell_type": "code",
   "execution_count": 4,
   "id": "collect-curtis",
   "metadata": {},
   "outputs": [],
   "source": [
    "import os\n",
    "import glob"
   ]
  },
  {
   "cell_type": "code",
   "execution_count": 15,
   "id": "rough-bronze",
   "metadata": {},
   "outputs": [],
   "source": [
    "run = \"4194\"\n",
    "file_filter = \"dl3_LST-1.Run0\"+run+\".*.fits\"\n",
    "directory = \"/home/sami.caroff/test_DL3/\"\n",
    "output = \"/home/sami.caroff/test_DL3/DL3_merged/\"\n"
   ]
  },
  {
   "cell_type": "code",
   "execution_count": 16,
   "id": "interstate-volume",
   "metadata": {},
   "outputs": [
    {
     "name": "stdout",
     "output_type": "stream",
     "text": [
      "['/fefs/aswg/data/real/DL2/20210320/v0.7.3/tailcut84/dl2_LST-1.Run04194.0008.h5', '/fefs/aswg/data/real/DL2/20210320/v0.7.3/tailcut84/dl2_LST-1.Run04194.0041.h5', '/fefs/aswg/data/real/DL2/20210320/v0.7.3/tailcut84/dl2_LST-1.Run04194.0014.h5', '/fefs/aswg/data/real/DL2/20210320/v0.7.3/tailcut84/dl2_LST-1.Run04194.0067.h5', '/fefs/aswg/data/real/DL2/20210320/v0.7.3/tailcut84/dl2_LST-1.Run04194.0059.h5', '/fefs/aswg/data/real/DL2/20210320/v0.7.3/tailcut84/dl2_LST-1.Run04194.0056.h5', '/fefs/aswg/data/real/DL2/20210320/v0.7.3/tailcut84/dl2_LST-1.Run04194.0061.h5', '/fefs/aswg/data/real/DL2/20210320/v0.7.3/tailcut84/dl2_LST-1.Run04194.0030.h5', '/fefs/aswg/data/real/DL2/20210320/v0.7.3/tailcut84/dl2_LST-1.Run04194.0025.h5', '/fefs/aswg/data/real/DL2/20210320/v0.7.3/tailcut84/dl2_LST-1.Run04194.0017.h5', '/fefs/aswg/data/real/DL2/20210320/v0.7.3/tailcut84/dl2_LST-1.Run04194.0034.h5', '/fefs/aswg/data/real/DL2/20210320/v0.7.3/tailcut84/dl2_LST-1.Run04194.0012.h5', '/fefs/aswg/data/real/DL2/20210320/v0.7.3/tailcut84/dl2_LST-1.Run04194.0022.h5', '/fefs/aswg/data/real/DL2/20210320/v0.7.3/tailcut84/dl2_LST-1.Run04194.0000.h5', '/fefs/aswg/data/real/DL2/20210320/v0.7.3/tailcut84/dl2_LST-1.Run04194.0031.h5', '/fefs/aswg/data/real/DL2/20210320/v0.7.3/tailcut84/dl2_LST-1.Run04194.0048.h5', '/fefs/aswg/data/real/DL2/20210320/v0.7.3/tailcut84/dl2_LST-1.Run04194.0046.h5', '/fefs/aswg/data/real/DL2/20210320/v0.7.3/tailcut84/dl2_LST-1.Run04194.0037.h5', '/fefs/aswg/data/real/DL2/20210320/v0.7.3/tailcut84/dl2_LST-1.Run04194.0009.h5', '/fefs/aswg/data/real/DL2/20210320/v0.7.3/tailcut84/dl2_LST-1.Run04194.0040.h5', '/fefs/aswg/data/real/DL2/20210320/v0.7.3/tailcut84/dl2_LST-1.Run04194.0020.h5', '/fefs/aswg/data/real/DL2/20210320/v0.7.3/tailcut84/dl2_LST-1.Run04194.0051.h5', '/fefs/aswg/data/real/DL2/20210320/v0.7.3/tailcut84/dl2_LST-1.Run04194.0049.h5', '/fefs/aswg/data/real/DL2/20210320/v0.7.3/tailcut84/dl2_LST-1.Run04194.0027.h5', '/fefs/aswg/data/real/DL2/20210320/v0.7.3/tailcut84/dl2_LST-1.Run04194.0045.h5', '/fefs/aswg/data/real/DL2/20210320/v0.7.3/tailcut84/dl2_LST-1.Run04194.0052.h5', '/fefs/aswg/data/real/DL2/20210320/v0.7.3/tailcut84/dl2_LST-1.Run04194.0028.h5', '/fefs/aswg/data/real/DL2/20210320/v0.7.3/tailcut84/dl2_LST-1.Run04194.0035.h5', '/fefs/aswg/data/real/DL2/20210320/v0.7.3/tailcut84/dl2_LST-1.Run04194.0042.h5', '/fefs/aswg/data/real/DL2/20210320/v0.7.3/tailcut84/dl2_LST-1.Run04194.0057.h5', '/fefs/aswg/data/real/DL2/20210320/v0.7.3/tailcut84/dl2_LST-1.Run04194.0065.h5', '/fefs/aswg/data/real/DL2/20210320/v0.7.3/tailcut84/dl2_LST-1.Run04194.0054.h5', '/fefs/aswg/data/real/DL2/20210320/v0.7.3/tailcut84/dl2_LST-1.Run04194.0055.h5', '/fefs/aswg/data/real/DL2/20210320/v0.7.3/tailcut84/dl2_LST-1.Run04194.0064.h5', '/fefs/aswg/data/real/DL2/20210320/v0.7.3/tailcut84/dl2_LST-1.Run04194.0013.h5', '/fefs/aswg/data/real/DL2/20210320/v0.7.3/tailcut84/dl2_LST-1.Run04194.0011.h5', '/fefs/aswg/data/real/DL2/20210320/v0.7.3/tailcut84/dl2_LST-1.Run04194.0033.h5', '/fefs/aswg/data/real/DL2/20210320/v0.7.3/tailcut84/dl2_LST-1.Run04194.0006.h5', '/fefs/aswg/data/real/DL2/20210320/v0.7.3/tailcut84/dl2_LST-1.Run04194.0018.h5', '/fefs/aswg/data/real/DL2/20210320/v0.7.3/tailcut84/dl2_LST-1.Run04194.0003.h5', '/fefs/aswg/data/real/DL2/20210320/v0.7.3/tailcut84/dl2_LST-1.Run04194.0063.h5', '/fefs/aswg/data/real/DL2/20210320/v0.7.3/tailcut84/dl2_LST-1.Run04194.0044.h5', '/fefs/aswg/data/real/DL2/20210320/v0.7.3/tailcut84/dl2_LST-1.Run04194.0026.h5', '/fefs/aswg/data/real/DL2/20210320/v0.7.3/tailcut84/dl2_LST-1.Run04194.0050.h5', '/fefs/aswg/data/real/DL2/20210320/v0.7.3/tailcut84/dl2_LST-1.Run04194.0032.h5', '/fefs/aswg/data/real/DL2/20210320/v0.7.3/tailcut84/dl2_LST-1.Run04194.0066.h5', '/fefs/aswg/data/real/DL2/20210320/v0.7.3/tailcut84/dl2_LST-1.Run04194.0010.h5', '/fefs/aswg/data/real/DL2/20210320/v0.7.3/tailcut84/dl2_LST-1.Run04194.0043.h5', '/fefs/aswg/data/real/DL2/20210320/v0.7.3/tailcut84/dl2_LST-1.Run04194.0058.h5', '/fefs/aswg/data/real/DL2/20210320/v0.7.3/tailcut84/dl2_LST-1.Run04194.0023.h5', '/fefs/aswg/data/real/DL2/20210320/v0.7.3/tailcut84/dl2_LST-1.Run04194.0053.h5', '/fefs/aswg/data/real/DL2/20210320/v0.7.3/tailcut84/dl2_LST-1.Run04194.0029.h5', '/fefs/aswg/data/real/DL2/20210320/v0.7.3/tailcut84/dl2_LST-1.Run04194.0036.h5', '/fefs/aswg/data/real/DL2/20210320/v0.7.3/tailcut84/dl2_LST-1.Run04194.0001.h5', '/fefs/aswg/data/real/DL2/20210320/v0.7.3/tailcut84/dl2_LST-1.Run04194.0047.h5', '/fefs/aswg/data/real/DL2/20210320/v0.7.3/tailcut84/dl2_LST-1.Run04194.0019.h5', '/fefs/aswg/data/real/DL2/20210320/v0.7.3/tailcut84/dl2_LST-1.Run04194.0004.h5', '/fefs/aswg/data/real/DL2/20210320/v0.7.3/tailcut84/dl2_LST-1.Run04194.0039.h5', '/fefs/aswg/data/real/DL2/20210320/v0.7.3/tailcut84/dl2_LST-1.Run04194.0021.h5', '/fefs/aswg/data/real/DL2/20210320/v0.7.3/tailcut84/dl2_LST-1.Run04194.0007.h5', '/fefs/aswg/data/real/DL2/20210320/v0.7.3/tailcut84/dl2_LST-1.Run04194.0038.h5', '/fefs/aswg/data/real/DL2/20210320/v0.7.3/tailcut84/dl2_LST-1.Run04194.0002.h5', '/fefs/aswg/data/real/DL2/20210320/v0.7.3/tailcut84/dl2_LST-1.Run04194.0015.h5', '/fefs/aswg/data/real/DL2/20210320/v0.7.3/tailcut84/dl2_LST-1.Run04194.0005.h5', '/fefs/aswg/data/real/DL2/20210320/v0.7.3/tailcut84/dl2_LST-1.Run04194.0060.h5', '/fefs/aswg/data/real/DL2/20210320/v0.7.3/tailcut84/dl2_LST-1.Run04194.0016.h5', '/fefs/aswg/data/real/DL2/20210320/v0.7.3/tailcut84/dl2_LST-1.Run04194.0062.h5', '/fefs/aswg/data/real/DL2/20210320/v0.7.3/tailcut84/dl2_LST-1.Run04194.0024.h5']\n",
      "python lstchain_dl2_to_dl3_fits.py -f /fefs/aswg/data/real/DL2/20210320/v0.7.3/tailcut84/dl2_LST-1.Run04194.0008.h5 -o /home/sami.caroff/test_DL3/\n",
      "python lstchain_dl2_to_dl3_fits.py -f /fefs/aswg/data/real/DL2/20210320/v0.7.3/tailcut84/dl2_LST-1.Run04194.0041.h5 -o /home/sami.caroff/test_DL3/\n",
      "python lstchain_dl2_to_dl3_fits.py -f /fefs/aswg/data/real/DL2/20210320/v0.7.3/tailcut84/dl2_LST-1.Run04194.0014.h5 -o /home/sami.caroff/test_DL3/\n",
      "python lstchain_dl2_to_dl3_fits.py -f /fefs/aswg/data/real/DL2/20210320/v0.7.3/tailcut84/dl2_LST-1.Run04194.0067.h5 -o /home/sami.caroff/test_DL3/\n",
      "python lstchain_dl2_to_dl3_fits.py -f /fefs/aswg/data/real/DL2/20210320/v0.7.3/tailcut84/dl2_LST-1.Run04194.0059.h5 -o /home/sami.caroff/test_DL3/\n",
      "python lstchain_dl2_to_dl3_fits.py -f /fefs/aswg/data/real/DL2/20210320/v0.7.3/tailcut84/dl2_LST-1.Run04194.0056.h5 -o /home/sami.caroff/test_DL3/\n",
      "python lstchain_dl2_to_dl3_fits.py -f /fefs/aswg/data/real/DL2/20210320/v0.7.3/tailcut84/dl2_LST-1.Run04194.0061.h5 -o /home/sami.caroff/test_DL3/\n",
      "python lstchain_dl2_to_dl3_fits.py -f /fefs/aswg/data/real/DL2/20210320/v0.7.3/tailcut84/dl2_LST-1.Run04194.0030.h5 -o /home/sami.caroff/test_DL3/\n",
      "python lstchain_dl2_to_dl3_fits.py -f /fefs/aswg/data/real/DL2/20210320/v0.7.3/tailcut84/dl2_LST-1.Run04194.0025.h5 -o /home/sami.caroff/test_DL3/\n",
      "python lstchain_dl2_to_dl3_fits.py -f /fefs/aswg/data/real/DL2/20210320/v0.7.3/tailcut84/dl2_LST-1.Run04194.0017.h5 -o /home/sami.caroff/test_DL3/\n",
      "python lstchain_dl2_to_dl3_fits.py -f /fefs/aswg/data/real/DL2/20210320/v0.7.3/tailcut84/dl2_LST-1.Run04194.0034.h5 -o /home/sami.caroff/test_DL3/\n",
      "python lstchain_dl2_to_dl3_fits.py -f /fefs/aswg/data/real/DL2/20210320/v0.7.3/tailcut84/dl2_LST-1.Run04194.0012.h5 -o /home/sami.caroff/test_DL3/\n",
      "python lstchain_dl2_to_dl3_fits.py -f /fefs/aswg/data/real/DL2/20210320/v0.7.3/tailcut84/dl2_LST-1.Run04194.0022.h5 -o /home/sami.caroff/test_DL3/\n",
      "python lstchain_dl2_to_dl3_fits.py -f /fefs/aswg/data/real/DL2/20210320/v0.7.3/tailcut84/dl2_LST-1.Run04194.0000.h5 -o /home/sami.caroff/test_DL3/\n",
      "python lstchain_dl2_to_dl3_fits.py -f /fefs/aswg/data/real/DL2/20210320/v0.7.3/tailcut84/dl2_LST-1.Run04194.0031.h5 -o /home/sami.caroff/test_DL3/\n",
      "python lstchain_dl2_to_dl3_fits.py -f /fefs/aswg/data/real/DL2/20210320/v0.7.3/tailcut84/dl2_LST-1.Run04194.0048.h5 -o /home/sami.caroff/test_DL3/\n",
      "python lstchain_dl2_to_dl3_fits.py -f /fefs/aswg/data/real/DL2/20210320/v0.7.3/tailcut84/dl2_LST-1.Run04194.0046.h5 -o /home/sami.caroff/test_DL3/\n",
      "python lstchain_dl2_to_dl3_fits.py -f /fefs/aswg/data/real/DL2/20210320/v0.7.3/tailcut84/dl2_LST-1.Run04194.0037.h5 -o /home/sami.caroff/test_DL3/\n",
      "python lstchain_dl2_to_dl3_fits.py -f /fefs/aswg/data/real/DL2/20210320/v0.7.3/tailcut84/dl2_LST-1.Run04194.0009.h5 -o /home/sami.caroff/test_DL3/\n"
     ]
    },
    {
     "name": "stdout",
     "output_type": "stream",
     "text": [
      "python lstchain_dl2_to_dl3_fits.py -f /fefs/aswg/data/real/DL2/20210320/v0.7.3/tailcut84/dl2_LST-1.Run04194.0040.h5 -o /home/sami.caroff/test_DL3/\n",
      "python lstchain_dl2_to_dl3_fits.py -f /fefs/aswg/data/real/DL2/20210320/v0.7.3/tailcut84/dl2_LST-1.Run04194.0020.h5 -o /home/sami.caroff/test_DL3/\n",
      "python lstchain_dl2_to_dl3_fits.py -f /fefs/aswg/data/real/DL2/20210320/v0.7.3/tailcut84/dl2_LST-1.Run04194.0051.h5 -o /home/sami.caroff/test_DL3/\n",
      "python lstchain_dl2_to_dl3_fits.py -f /fefs/aswg/data/real/DL2/20210320/v0.7.3/tailcut84/dl2_LST-1.Run04194.0049.h5 -o /home/sami.caroff/test_DL3/\n",
      "python lstchain_dl2_to_dl3_fits.py -f /fefs/aswg/data/real/DL2/20210320/v0.7.3/tailcut84/dl2_LST-1.Run04194.0027.h5 -o /home/sami.caroff/test_DL3/\n",
      "python lstchain_dl2_to_dl3_fits.py -f /fefs/aswg/data/real/DL2/20210320/v0.7.3/tailcut84/dl2_LST-1.Run04194.0045.h5 -o /home/sami.caroff/test_DL3/\n",
      "python lstchain_dl2_to_dl3_fits.py -f /fefs/aswg/data/real/DL2/20210320/v0.7.3/tailcut84/dl2_LST-1.Run04194.0052.h5 -o /home/sami.caroff/test_DL3/\n",
      "python lstchain_dl2_to_dl3_fits.py -f /fefs/aswg/data/real/DL2/20210320/v0.7.3/tailcut84/dl2_LST-1.Run04194.0028.h5 -o /home/sami.caroff/test_DL3/\n",
      "python lstchain_dl2_to_dl3_fits.py -f /fefs/aswg/data/real/DL2/20210320/v0.7.3/tailcut84/dl2_LST-1.Run04194.0035.h5 -o /home/sami.caroff/test_DL3/\n",
      "python lstchain_dl2_to_dl3_fits.py -f /fefs/aswg/data/real/DL2/20210320/v0.7.3/tailcut84/dl2_LST-1.Run04194.0042.h5 -o /home/sami.caroff/test_DL3/\n",
      "python lstchain_dl2_to_dl3_fits.py -f /fefs/aswg/data/real/DL2/20210320/v0.7.3/tailcut84/dl2_LST-1.Run04194.0057.h5 -o /home/sami.caroff/test_DL3/\n",
      "python lstchain_dl2_to_dl3_fits.py -f /fefs/aswg/data/real/DL2/20210320/v0.7.3/tailcut84/dl2_LST-1.Run04194.0065.h5 -o /home/sami.caroff/test_DL3/\n",
      "python lstchain_dl2_to_dl3_fits.py -f /fefs/aswg/data/real/DL2/20210320/v0.7.3/tailcut84/dl2_LST-1.Run04194.0054.h5 -o /home/sami.caroff/test_DL3/\n",
      "python lstchain_dl2_to_dl3_fits.py -f /fefs/aswg/data/real/DL2/20210320/v0.7.3/tailcut84/dl2_LST-1.Run04194.0055.h5 -o /home/sami.caroff/test_DL3/\n",
      "python lstchain_dl2_to_dl3_fits.py -f /fefs/aswg/data/real/DL2/20210320/v0.7.3/tailcut84/dl2_LST-1.Run04194.0064.h5 -o /home/sami.caroff/test_DL3/\n",
      "python lstchain_dl2_to_dl3_fits.py -f /fefs/aswg/data/real/DL2/20210320/v0.7.3/tailcut84/dl2_LST-1.Run04194.0013.h5 -o /home/sami.caroff/test_DL3/\n",
      "python lstchain_dl2_to_dl3_fits.py -f /fefs/aswg/data/real/DL2/20210320/v0.7.3/tailcut84/dl2_LST-1.Run04194.0011.h5 -o /home/sami.caroff/test_DL3/\n",
      "python lstchain_dl2_to_dl3_fits.py -f /fefs/aswg/data/real/DL2/20210320/v0.7.3/tailcut84/dl2_LST-1.Run04194.0033.h5 -o /home/sami.caroff/test_DL3/\n",
      "python lstchain_dl2_to_dl3_fits.py -f /fefs/aswg/data/real/DL2/20210320/v0.7.3/tailcut84/dl2_LST-1.Run04194.0006.h5 -o /home/sami.caroff/test_DL3/\n",
      "python lstchain_dl2_to_dl3_fits.py -f /fefs/aswg/data/real/DL2/20210320/v0.7.3/tailcut84/dl2_LST-1.Run04194.0018.h5 -o /home/sami.caroff/test_DL3/\n",
      "python lstchain_dl2_to_dl3_fits.py -f /fefs/aswg/data/real/DL2/20210320/v0.7.3/tailcut84/dl2_LST-1.Run04194.0003.h5 -o /home/sami.caroff/test_DL3/\n",
      "python lstchain_dl2_to_dl3_fits.py -f /fefs/aswg/data/real/DL2/20210320/v0.7.3/tailcut84/dl2_LST-1.Run04194.0063.h5 -o /home/sami.caroff/test_DL3/\n",
      "python lstchain_dl2_to_dl3_fits.py -f /fefs/aswg/data/real/DL2/20210320/v0.7.3/tailcut84/dl2_LST-1.Run04194.0044.h5 -o /home/sami.caroff/test_DL3/\n",
      "python lstchain_dl2_to_dl3_fits.py -f /fefs/aswg/data/real/DL2/20210320/v0.7.3/tailcut84/dl2_LST-1.Run04194.0026.h5 -o /home/sami.caroff/test_DL3/\n",
      "python lstchain_dl2_to_dl3_fits.py -f /fefs/aswg/data/real/DL2/20210320/v0.7.3/tailcut84/dl2_LST-1.Run04194.0050.h5 -o /home/sami.caroff/test_DL3/\n",
      "python lstchain_dl2_to_dl3_fits.py -f /fefs/aswg/data/real/DL2/20210320/v0.7.3/tailcut84/dl2_LST-1.Run04194.0032.h5 -o /home/sami.caroff/test_DL3/\n",
      "python lstchain_dl2_to_dl3_fits.py -f /fefs/aswg/data/real/DL2/20210320/v0.7.3/tailcut84/dl2_LST-1.Run04194.0066.h5 -o /home/sami.caroff/test_DL3/\n",
      "python lstchain_dl2_to_dl3_fits.py -f /fefs/aswg/data/real/DL2/20210320/v0.7.3/tailcut84/dl2_LST-1.Run04194.0010.h5 -o /home/sami.caroff/test_DL3/\n",
      "python lstchain_dl2_to_dl3_fits.py -f /fefs/aswg/data/real/DL2/20210320/v0.7.3/tailcut84/dl2_LST-1.Run04194.0043.h5 -o /home/sami.caroff/test_DL3/\n",
      "python lstchain_dl2_to_dl3_fits.py -f /fefs/aswg/data/real/DL2/20210320/v0.7.3/tailcut84/dl2_LST-1.Run04194.0058.h5 -o /home/sami.caroff/test_DL3/\n",
      "python lstchain_dl2_to_dl3_fits.py -f /fefs/aswg/data/real/DL2/20210320/v0.7.3/tailcut84/dl2_LST-1.Run04194.0023.h5 -o /home/sami.caroff/test_DL3/\n",
      "python lstchain_dl2_to_dl3_fits.py -f /fefs/aswg/data/real/DL2/20210320/v0.7.3/tailcut84/dl2_LST-1.Run04194.0053.h5 -o /home/sami.caroff/test_DL3/\n",
      "python lstchain_dl2_to_dl3_fits.py -f /fefs/aswg/data/real/DL2/20210320/v0.7.3/tailcut84/dl2_LST-1.Run04194.0029.h5 -o /home/sami.caroff/test_DL3/\n",
      "python lstchain_dl2_to_dl3_fits.py -f /fefs/aswg/data/real/DL2/20210320/v0.7.3/tailcut84/dl2_LST-1.Run04194.0036.h5 -o /home/sami.caroff/test_DL3/\n",
      "python lstchain_dl2_to_dl3_fits.py -f /fefs/aswg/data/real/DL2/20210320/v0.7.3/tailcut84/dl2_LST-1.Run04194.0001.h5 -o /home/sami.caroff/test_DL3/\n",
      "python lstchain_dl2_to_dl3_fits.py -f /fefs/aswg/data/real/DL2/20210320/v0.7.3/tailcut84/dl2_LST-1.Run04194.0047.h5 -o /home/sami.caroff/test_DL3/\n",
      "python lstchain_dl2_to_dl3_fits.py -f /fefs/aswg/data/real/DL2/20210320/v0.7.3/tailcut84/dl2_LST-1.Run04194.0019.h5 -o /home/sami.caroff/test_DL3/\n",
      "python lstchain_dl2_to_dl3_fits.py -f /fefs/aswg/data/real/DL2/20210320/v0.7.3/tailcut84/dl2_LST-1.Run04194.0004.h5 -o /home/sami.caroff/test_DL3/\n",
      "python lstchain_dl2_to_dl3_fits.py -f /fefs/aswg/data/real/DL2/20210320/v0.7.3/tailcut84/dl2_LST-1.Run04194.0039.h5 -o /home/sami.caroff/test_DL3/\n",
      "python lstchain_dl2_to_dl3_fits.py -f /fefs/aswg/data/real/DL2/20210320/v0.7.3/tailcut84/dl2_LST-1.Run04194.0021.h5 -o /home/sami.caroff/test_DL3/\n",
      "python lstchain_dl2_to_dl3_fits.py -f /fefs/aswg/data/real/DL2/20210320/v0.7.3/tailcut84/dl2_LST-1.Run04194.0007.h5 -o /home/sami.caroff/test_DL3/\n",
      "python lstchain_dl2_to_dl3_fits.py -f /fefs/aswg/data/real/DL2/20210320/v0.7.3/tailcut84/dl2_LST-1.Run04194.0038.h5 -o /home/sami.caroff/test_DL3/\n",
      "python lstchain_dl2_to_dl3_fits.py -f /fefs/aswg/data/real/DL2/20210320/v0.7.3/tailcut84/dl2_LST-1.Run04194.0002.h5 -o /home/sami.caroff/test_DL3/\n",
      "python lstchain_dl2_to_dl3_fits.py -f /fefs/aswg/data/real/DL2/20210320/v0.7.3/tailcut84/dl2_LST-1.Run04194.0015.h5 -o /home/sami.caroff/test_DL3/\n",
      "python lstchain_dl2_to_dl3_fits.py -f /fefs/aswg/data/real/DL2/20210320/v0.7.3/tailcut84/dl2_LST-1.Run04194.0005.h5 -o /home/sami.caroff/test_DL3/\n",
      "python lstchain_dl2_to_dl3_fits.py -f /fefs/aswg/data/real/DL2/20210320/v0.7.3/tailcut84/dl2_LST-1.Run04194.0060.h5 -o /home/sami.caroff/test_DL3/\n",
      "python lstchain_dl2_to_dl3_fits.py -f /fefs/aswg/data/real/DL2/20210320/v0.7.3/tailcut84/dl2_LST-1.Run04194.0016.h5 -o /home/sami.caroff/test_DL3/\n",
      "python lstchain_dl2_to_dl3_fits.py -f /fefs/aswg/data/real/DL2/20210320/v0.7.3/tailcut84/dl2_LST-1.Run04194.0062.h5 -o /home/sami.caroff/test_DL3/\n",
      "python lstchain_dl2_to_dl3_fits.py -f /fefs/aswg/data/real/DL2/20210320/v0.7.3/tailcut84/dl2_LST-1.Run04194.0024.h5 -o /home/sami.caroff/test_DL3/\n"
     ]
    }
   ],
   "source": [
    "#produce DL3 for all DL2 sub runs\n",
    "\n",
    "list_DL2 = glob.glob(\"/fefs/aswg/data/real/DL2/20210320/v0.7.3/tailcut84/dl2_LST-1.Run0\"+run+\".*.h5\")\n",
    "print(list_DL2)\n",
    "for file in list_DL2:\n",
    "    command = 'python lstchain_dl2_to_dl3_fits.py -f '\n",
    "    command = command + file\n",
    "    command = command + ' -o '+directory\n",
    "    print(command)\n",
    "    os.system(command)"
   ]
  },
  {
   "cell_type": "code",
   "execution_count": 17,
   "id": "becoming-bonus",
   "metadata": {},
   "outputs": [
    {
     "name": "stdout",
     "output_type": "stream",
     "text": [
      "python merge_DL3.py -f \"dl3_LST-1.Run04194.*.fits\" -d \"/home/sami.caroff/test_DL3/\" -o \"/home/sami.caroff/test_DL3/DL3_merged/\"\n"
     ]
    },
    {
     "data": {
      "text/plain": [
       "0"
      ]
     },
     "execution_count": 17,
     "metadata": {},
     "output_type": "execute_result"
    }
   ],
   "source": [
    "# merge DL3 \n",
    "merge_command = 'python merge_DL3.py -f \"'+file_filter+'\" -d \"' + directory + '\" -o \"' + output + '\"'\n",
    "print(merge_command)\n",
    "os.system(merge_command)"
   ]
  }
 ],
 "metadata": {
  "kernelspec": {
   "display_name": "Python 3",
   "language": "python",
   "name": "python3"
  },
  "language_info": {
   "codemirror_mode": {
    "name": "ipython",
    "version": 3
   },
   "file_extension": ".py",
   "mimetype": "text/x-python",
   "name": "python",
   "nbconvert_exporter": "python",
   "pygments_lexer": "ipython3",
   "version": "3.7.10"
  }
 },
 "nbformat": 4,
 "nbformat_minor": 5
}
